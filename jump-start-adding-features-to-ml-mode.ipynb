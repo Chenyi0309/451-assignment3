{
 "cells": [
  {
   "cell_type": "markdown",
   "metadata": {},
   "source": [
    "<h2><font color='#306998'><center>MSDS 451 Feature Engineering</center></font></h2>\n",
    "<h2><center>Financial Machine Learning: Adding Features to the Mix</center></h2>\n",
    "<h3><center>Thomas W. Miller, August 25, 2025</center></h3>\n",
    "---"
   ]
  },
  {
   "cell_type": "markdown",
   "metadata": {},
   "source": [
    "## Overview \n",
    "We again use machine learning classifiers, including tree-based ensemble boosting and bagging methods, to predict the direction of oil futures (up or down) using a number of lagged price features. In particular, we look at daily closing spot prices for [West Texas Intermediate (ticker WTI)](https://en.wikipedia.org/wiki/West_Texas_Intermediate) with lags of one to seven days, as well as features based on opening, closing, high, and low price points, and daily trading volume. \n",
    "\n",
    "Tree-based ensemble models for predicting the direction of daily returns set the stage for testing the predictive utility of additional features. The domain of potential features or leading indicators is wide, including those associated with other price series, economic indicators, international events, securities filings, analyst and news reports, and media measures. Here we explore a set of nine features defined from a range of exchange-traded funds (ETFs).\n",
    "\n",
    "The model-building process demonstrated here can be employed for any asset or portfolio of assets.\n",
    "\n",
    "The model building process involves these steps:\n",
    "\n",
    "- Define price-based features for the target asset.\n",
    "- Define binary features (Up or not Up) for other assets, economic measures, market measures, worldwide events, and media measures.\n",
    "- Fit an ensemble model to the full set of features within a time series cross-validation design using a tree-structured ensemble with hyperparameters set to their default values. Note the test set classification performance in predicting movement (Up or not Up) in the target asset.\n",
    "- Utilized randomized search across key hyperparameters to determine \"best\" settings.\n",
    "- Use a hold-out test set to evaluate model performance with \"best\" hyperparameter settings.\n",
    "- Rank the importance of features from the model evaluation, and select the best features for subsequent model development.\n",
    "- Repeat the model-building process, adding new features to the mix.\n"
   ]
  },
  {
   "cell_type": "markdown",
   "metadata": {
    "tags": []
   },
   "source": [
    "### Import Libraries\n",
    "We draw on Python packages for data manipulation and modeling. Most important are Polars, a high-performance alternative to Pandas for data manipulation, and Scikit-Learn for machine learning study design and modeling algorithms."
   ]
  },
  {
   "cell_type": "code",
   "execution_count": 1,
   "metadata": {
    "scrolled": true
   },
   "outputs": [],
   "source": [
    "import os\n",
    "# Ignore warnings\n",
    "import warnings\n",
    "warnings.filterwarnings('ignore')\n",
    "warnings.simplefilter(action='ignore', category=FutureWarning)\n",
    "\n",
    "# datetime functions needed for filtering across DataFrames with differing time frame\n",
    "from datetime import datetime, timezone\n",
    "\n",
    "# Import Python Packages for data manipulation, data pipelines, and databases\n",
    "import numpy as np\n",
    "import pyarrow # foundation for polars\n",
    "import polars as pl # DataFrame work superior to Pandas\n",
    "\n",
    "# Plotting\n",
    "import matplotlib.pyplot as plt\n",
    "# Display static plots directly in the notebook output \n",
    "%matplotlib inline\n",
    "# create stylized visualizations, including heat maps\n",
    "import seaborn as sns\n",
    "\n",
    "# Preprocessing\n",
    "from sklearn.preprocessing import MinMaxScaler, StandardScaler\n",
    "from sklearn.pipeline import Pipeline\n",
    "from sklearn.model_selection import (RandomizedSearchCV, \n",
    "                                    TimeSeriesSplit)\n",
    "from sklearn.model_selection import cross_validate\n",
    "\n",
    "# utilized in all possible subsets classification work\n",
    "from sklearn.linear_model import LogisticRegression\n",
    "from sklearn.metrics import log_loss\n",
    "\n",
    "# needed for randomized search\n",
    "from sklearn.model_selection import RandomizedSearchCV\n",
    "from scipy.stats import randint, uniform\n",
    "\n",
    "# metrics in xgboost tuning and final model evaluation\n",
    "from sklearn.metrics import (accuracy_score,\n",
    "                             classification_report, \n",
    "                             roc_curve, \n",
    "                             roc_auc_score,\n",
    "                             RocCurveDisplay,\n",
    "                             ConfusionMatrixDisplay,\n",
    "                             confusion_matrix,\n",
    "                             precision_score,\n",
    "                             recall_score,\n",
    "                             f1_score\n",
    "                            )\n",
    "\n",
    "from sklearn.ensemble import AdaBoostClassifier\n",
    "\n",
    "from catboost import CatBoostClassifier\n",
    "\n",
    "# XGBoost Package... more complete than SciKit-Learn boosting methods\n",
    "import xgboost as xgb\n",
    "from xgboost import XGBRegressor, XGBClassifier, plot_importance\n",
    "\n",
    "from sklearn.ensemble import RandomForestClassifier\n",
    "\n",
    "import warnings\n",
    "# Suppress warnings for cleaner output\n",
    "warnings.filterwarnings('ignore') "
   ]
  },
  {
   "cell_type": "markdown",
   "metadata": {},
   "source": [
    "### Retrieve Data\n",
    "In previous work, we retrieved price data for WTI and nine ETFs from Yahoo Finance. The code for WTI is shown in the next commented-out cell."
   ]
  },
  {
   "cell_type": "code",
   "execution_count": 2,
   "metadata": {},
   "outputs": [
    {
     "data": {
      "text/plain": [
       "'\\nPrevious work to retrieve data from Yahoo Finance had this structure for each of the ETFs in the study\\n\\nsymbol = \\'WTI\\'\\nstart_date = \\'2000-01-01\\'\\nend_date = \\'2025-08-19\\'\\n\\nticker = yf.Ticker(symbol)\\nhistorical_data = ticker.history(start = start_date, end = end_date, period = \\'1mo\\')\\nprint(historical_data)\\n\\nprint(\"type of historical_data\", type(historical_data))\\n\\nhistorical_data.to_csv(\"wti_daily_data.csv\")\\n'"
      ]
     },
     "execution_count": 2,
     "metadata": {},
     "output_type": "execute_result"
    }
   ],
   "source": [
    "'''\n",
    "Previous work to retrieve data from Yahoo Finance had this structure for each of the ETFs in the study\n",
    "\n",
    "symbol = 'WTI'\n",
    "start_date = '2000-01-01'\n",
    "end_date = '2025-08-19'\n",
    "\n",
    "ticker = yf.Ticker(symbol)\n",
    "historical_data = ticker.history(start = start_date, end = end_date, period = '1mo')\n",
    "print(historical_data)\n",
    "\n",
    "print(\"type of historical_data\", type(historical_data))\n",
    "\n",
    "historical_data.to_csv(\"wti_daily_data.csv\")\n",
    "'''"
   ]
  },
  {
   "cell_type": "markdown",
   "metadata": {},
   "source": [
    "### Polars DataFrame Development\n",
    "The following code cell demonstrates Polars use with the time series DataFrame for our selected market/ticker, WTI."
   ]
  },
  {
   "cell_type": "code",
   "execution_count": 3,
   "metadata": {},
   "outputs": [
    {
     "name": "stdout",
     "output_type": "stream",
     "text": [
      "Schema({'Date': Datetime(time_unit='us', time_zone='UTC'), 'Open': Float64, 'High': Float64, 'Low': Float64, 'Close': Float64, 'Volume': Int64, 'Dividends': Float64, 'StockSplits': Float64})\n"
     ]
    }
   ],
   "source": [
    "wti = pl.read_csv(\"../data/wti_daily_data.csv\", try_parse_dates=True)\n",
    "\n",
    "# check the original schema\n",
    "print(wti.schema)\n",
    "\n",
    "# drop useless columns Dividends and StockSplits\n",
    "wti = wti.drop(['Dividends', 'StockSplits'])\n",
    "\n",
    "# create lag price features\n",
    "wti = wti.with_columns((pl.col('Close')).shift().alias('CloseLag1'))\n",
    "wti = wti.with_columns((pl.col('CloseLag1')).shift().alias('CloseLag2'))\n",
    "wti = wti.with_columns((pl.col('CloseLag2')).shift().alias('CloseLag3'))\n",
    "\n",
    "# create high-minus-low (HML) for day and its lags\n",
    "wti = wti.with_columns((pl.col('High') - pl.col('Low')).alias('HML'))\n",
    "wti = wti.with_columns((pl.col('HML')).shift().alias('HMLLag1'))\n",
    "wti = wti.with_columns((pl.col('HMLLag1')).shift().alias('HMLLag2'))\n",
    "wti = wti.with_columns((pl.col('HMLLag2')).shift().alias('HMLLag3'))\n",
    "\n",
    "# create a net change for the day as the open minus closing price OMC\n",
    "# also create the corresponding lag metrics\n",
    "wti = wti.with_columns((pl.col('Open') - pl.col('Close')).alias('OMC'))\n",
    "wti = wti.with_columns((pl.col('OMC')).shift().alias('OMCLag1'))\n",
    "wti = wti.with_columns((pl.col('OMCLag1')).shift().alias('OMCLag2'))\n",
    "wti = wti.with_columns((pl.col('OMCLag2')).shift().alias('OMCLag3'))\n",
    "\n",
    "# create volume lag metrics\n",
    "wti = wti.with_columns((pl.col('Volume')).shift().alias('VolumeLag1'))\n",
    "wti = wti.with_columns((pl.col('VolumeLag1')).shift().alias('VolumeLag2'))\n",
    "wti = wti.with_columns((pl.col('VolumeLag2')).shift().alias('VolumeLag3'))\n",
    "\n",
    "# compute 10-day exponential moving averages of closing prices\n",
    "# compute acround CloseLag1 to avoid any \"leakage\" in explanatory variable set\n",
    "# note also the 10-day buffer between train and test in time-series cross-validation\n",
    "wti = wti.with_columns((pl.col('CloseLag1').ewm_mean(half_life=1,ignore_nulls=True)).alias('CloseEMA2'))\n",
    "wti = wti.with_columns((pl.col('CloseLag1').ewm_mean(half_life=2,ignore_nulls=True)).alias('CloseEMA4'))\n",
    "wti = wti.with_columns((pl.col('CloseLag1').ewm_mean(half_life=4,ignore_nulls=True)).alias('CloseEMA8'))\n",
    "\n",
    "# log daily returns\n",
    "wti = wti.with_columns(np.log(pl.col('Close')/pl.col('CloseLag1')).alias('LogReturn'))\n",
    "\n",
    "# set volume features to Float64 for subsequent use in Numpy arrays\n",
    "wti = wti.with_columns(\n",
    "    pl.col('Volume').cast(pl.Float64).round(0),\n",
    "    pl.col('VolumeLag1').cast(pl.Float64).round(0),\n",
    "    pl.col('VolumeLag2').cast(pl.Float64).round(0),\n",
    "    pl.col('VolumeLag3').cast(pl.Float64).round(0),\n",
    "    )\n",
    "\n",
    "# round other features to three decimal places for reporting and subsequent analytics\n",
    "wti = wti.with_columns(\n",
    "    pl.col('Open').round(3),\n",
    "    pl.col('High').round(3),    \n",
    "    pl.col('Low').round(3),\n",
    "    pl.col('Close').round(3),      \n",
    "    pl.col('CloseLag1').round(3),\n",
    "    pl.col('CloseLag2').round(3),  \n",
    "    pl.col('CloseLag3').round(3),\n",
    "    pl.col('HML').round(3),  \n",
    "    pl.col('HMLLag1').round(3),\n",
    "    pl.col('HMLLag2').round(3),  \n",
    "    pl.col('HMLLag3').round(3),\n",
    "    pl.col('OMC').round(3),  \n",
    "    pl.col('OMCLag1').round(3),\n",
    "    pl.col('OMCLag2').round(3),  \n",
    "    pl.col('OMCLag3').round(3), \n",
    "    pl.col('CloseEMA2').round(3),\n",
    "    pl.col('CloseEMA4').round(3), \n",
    "    pl.col('CloseEMA8').round(3))\n",
    "    \n",
    "# no correction for class imbalance in this analysis\n",
    "# define binary target/response 1 = market price up since previous day, 0 = even or down \n",
    "wti = wti.with_columns(pl.when(pl.col('LogReturn')>0).then(pl.lit(1)).otherwise(pl.lit(0)).alias('Target'))\n",
    "\n",
    "# save to external comma-delimited text file for checking calculations in Excel\n",
    "wti.write_csv(\"wti-with-computed-features.csv\")"
   ]
  },
  {
   "cell_type": "markdown",
   "metadata": {},
   "source": [
    "### Descriptive Statistics for Price Features"
   ]
  },
  {
   "cell_type": "code",
   "execution_count": 4,
   "metadata": {
    "scrolled": true
   },
   "outputs": [
    {
     "name": "stdout",
     "output_type": "stream",
     "text": [
      "['statistic', 'Open', 'High', 'Low', 'Close', 'Volume', 'CloseLag1', 'CloseLag2', 'CloseLag3', 'HML', 'HMLLag1', 'HMLLag2', 'HMLLag3', 'OMC', 'OMCLag1', 'OMCLag2', 'OMCLag3', 'VolumeLag1', 'VolumeLag2', 'VolumeLag3', 'CloseEMA2', 'CloseEMA4', 'CloseEMA8', 'LogReturn', 'Target']\n",
      "Schema({'column': String, 'column_0': String, 'column_2': String, 'column_3': String, 'column_4': String, 'column_6': String, 'column_8': String})\n",
      "┌────────────┬──────────┬─────────────────────────┬─────────────────────┬─────────────────────┬───────────┬────────────────────┐\n",
      "│ column     ┆ column_0 ┆ column_2                ┆ column_3            ┆ column_4            ┆ column_6  ┆ column_8           │\n",
      "╞════════════╪══════════╪═════════════════════════╪═════════════════════╪═════════════════════╪═══════════╪════════════════════╡\n",
      "│ statistic  ┆ count    ┆ mean                    ┆ std                 ┆ min                 ┆ 50%       ┆ max                │\n",
      "│ Open       ┆ 5169.0   ┆ 9.888208357515962       ┆ 8.24379751138907    ┆ 1.105               ┆ 6.597     ┆ 44.596             │\n",
      "│ High       ┆ 5169.0   ┆ 10.104958405881215      ┆ 8.390030911332957   ┆ 1.145               ┆ 6.784     ┆ 44.626             │\n",
      "│ Low        ┆ 5169.0   ┆ 9.646586767266395       ┆ 8.068196720476314   ┆ 1.028               ┆ 6.4       ┆ 43.235             │\n",
      "│ Close      ┆ 5169.0   ┆ 9.871213774424453       ┆ 8.228563569925155   ┆ 1.047               ┆ 6.592     ┆ 44.172             │\n",
      "│ Volume     ┆ 5169.0   ┆ 1748263.726059199       ┆ 1829939.6046243927  ┆ 34700.0             ┆ 1177400.0 ┆ 40429700.0         │\n",
      "│ CloseLag1  ┆ 5169.0   ┆ 9.873441671503192       ┆ 8.22790431775934    ┆ 1.047               ┆ 6.592     ┆ 44.172             │\n",
      "│ CloseLag2  ┆ 5169.0   ┆ 9.87565660669375        ┆ 8.22725538628012    ┆ 1.047               ┆ 6.592     ┆ 44.172             │\n",
      "│ CloseLag3  ┆ 5169.0   ┆ 9.877919326755658       ┆ 8.226617508094625   ┆ 1.047               ┆ 6.592     ┆ 44.172             │\n",
      "│ HML        ┆ 5169.0   ┆ 0.4583662217063263      ┆ 0.43874669689562873 ┆ 0.029               ┆ 0.327     ┆ 4.129              │\n",
      "│ HMLLag1    ┆ 5169.0   ┆ 0.4583936931708261      ┆ 0.43872807289866955 ┆ 0.029               ┆ 0.327     ┆ 4.129              │\n",
      "│ HMLLag2    ┆ 5169.0   ┆ 0.45853685432385377     ┆ 0.43871551870478587 ┆ 0.029               ┆ 0.327     ┆ 4.129              │\n",
      "│ HMLLag3    ┆ 5169.0   ┆ 0.4587094215515574      ┆ 0.43873022336223927 ┆ 0.029               ┆ 0.327     ┆ 4.129              │\n",
      "│ OMC        ┆ 5169.0   ┆ 0.016985683884697237    ┆ 0.37995566715807194 ┆ -3.223              ┆ 0.01      ┆ 3.705              │\n",
      "│ OMCLag1    ┆ 5169.0   ┆ 0.016974656606693762    ┆ 0.3799555359557333  ┆ -3.223              ┆ 0.01      ┆ 3.705              │\n",
      "│ OMCLag2    ┆ 5169.0   ┆ 0.01702050686786613     ┆ 0.3799653728485099  ┆ -3.223              ┆ 0.01      ┆ 3.705              │\n",
      "│ OMCLag3    ┆ 5169.0   ┆ 0.01715302766492551     ┆ 0.3800928215711145  ┆ -3.223              ┆ 0.01      ┆ 3.705              │\n",
      "│ VolumeLag1 ┆ 5169.0   ┆ 1748148.5974076223      ┆ 1829989.5770774593  ┆ 34700.0             ┆ 1176900.0 ┆ 40429700.0         │\n",
      "│ VolumeLag2 ┆ 5169.0   ┆ 1748359.3538402012      ┆ 1829930.1201336666  ┆ 34700.0             ┆ 1177400.0 ┆ 40429700.0         │\n",
      "│ VolumeLag3 ┆ 5169.0   ┆ 1750131.4954536662      ┆ 1833301.7931244925  ┆ 34700.0             ┆ 1178000.0 ┆ 40429700.0         │\n",
      "│ CloseEMA2  ┆ 5169.0   ┆ 9.875673437802282       ┆ 8.219729461746063   ┆ 1.111               ┆ 6.614     ┆ 43.432             │\n",
      "│ CloseEMA4  ┆ 5169.0   ┆ 9.878829560843492       ┆ 8.210186049750966   ┆ 1.136               ┆ 6.624     ┆ 43.018             │\n",
      "│ CloseEMA8  ┆ 5169.0   ┆ 9.885304314180692       ┆ 8.190856957522218   ┆ 1.157               ┆ 6.649     ┆ 42.696             │\n",
      "│ LogReturn  ┆ 5169.0   ┆ -0.00039874914065335176 ┆ 0.04178042201340917 ┆ -0.2644790687687591 ┆ 0.0       ┆ 0.3488180995786815 │\n",
      "│ Target     ┆ 5169.0   ┆ 0.4778487134842329      ┆ 0.4995574042820073  ┆ 0.0                 ┆ 0.0       ┆ 1.0                │\n",
      "└────────────┴──────────┴─────────────────────────┴─────────────────────┴─────────────────────┴───────────┴────────────────────┘\n"
     ]
    }
   ],
   "source": [
    "# Drop the rows with null values such as the initial lag rows\n",
    "wti = wti.drop_nulls()\n",
    "\n",
    "# Descriptive statistics\n",
    "wtiStatistics = wti.drop('Date').describe()\n",
    "\n",
    "print(wtiStatistics.columns)\n",
    "\n",
    "wtiStatisticsToPrint = wtiStatistics.transpose(include_header=True).drop(['column_1', 'column_5', 'column_7'])\n",
    "\n",
    "print(wtiStatisticsToPrint.schema)\n",
    "\n",
    "with pl.Config(\n",
    "    tbl_rows = 60,\n",
    "    tbl_width_chars = 200,\n",
    "    tbl_cols = -1,\n",
    "    float_precision = 3,\n",
    "    tbl_hide_dataframe_shape = True,\n",
    "    tbl_hide_column_data_types = True):\n",
    "    print(wtiStatisticsToPrint)\n",
    "\n"
   ]
  },
  {
   "cell_type": "markdown",
   "metadata": {},
   "source": [
    "### Base Feature List Defined on WTI Pricing Alone \n",
    "Features or explanatory variables, also known as an independent variables, are used to predict the values of target variables. The initial list of featrues includes the price-based features defined above, everything except the continuous response **LogReturn** if we wanted to employ regression and the binary response **Target** for classification, which is the focus of this project. This complete feature list is used in evaluating all methods.\n",
    "\n",
    "We retain Date and Target at this point... Date is needed to select across WTI and the many ETFs. Target is needed as the response in training. These will be dropped from the training features set later."
   ]
  },
  {
   "cell_type": "code",
   "execution_count": 5,
   "metadata": {},
   "outputs": [
    {
     "data": {
      "text/html": [
       "<div><style>\n",
       ".dataframe > thead > tr,\n",
       ".dataframe > tbody > tr {\n",
       "  text-align: right;\n",
       "  white-space: pre-wrap;\n",
       "}\n",
       "</style>\n",
       "<small>shape: (5, 17)</small><table border=\"1\" class=\"dataframe\"><thead><tr><th>Date</th><th>CloseLag1</th><th>CloseLag2</th><th>CloseLag3</th><th>HMLLag1</th><th>HMLLag2</th><th>HMLLag3</th><th>OMCLag1</th><th>OMCLag2</th><th>OMCLag3</th><th>VolumeLag1</th><th>VolumeLag2</th><th>VolumeLag3</th><th>CloseEMA2</th><th>CloseEMA4</th><th>CloseEMA8</th><th>Target</th></tr><tr><td>datetime[μs, UTC]</td><td>f64</td><td>f64</td><td>f64</td><td>f64</td><td>f64</td><td>f64</td><td>f64</td><td>f64</td><td>f64</td><td>f64</td><td>f64</td><td>f64</td><td>f64</td><td>f64</td><td>f64</td><td>i32</td></tr></thead><tbody><tr><td>2005-02-02 05:00:00 UTC</td><td>13.196</td><td>13.189</td><td>13.406</td><td>0.232</td><td>0.79</td><td>0.942</td><td>-0.007</td><td>0.217</td><td>0.725</td><td>656500.0</td><td>1.7768e6</td><td>9.8135e6</td><td>13.224</td><td>13.241</td><td>13.252</td><td>0</td></tr><tr><td>2005-02-03 05:00:00 UTC</td><td>13.196</td><td>13.196</td><td>13.189</td><td>0.152</td><td>0.232</td><td>0.79</td><td>0.029</td><td>-0.007</td><td>0.217</td><td>265300.0</td><td>656500.0</td><td>1.7768e6</td><td>13.209</td><td>13.224</td><td>13.234</td><td>1</td></tr><tr><td>2005-02-04 05:00:00 UTC</td><td>13.225</td><td>13.196</td><td>13.196</td><td>0.087</td><td>0.152</td><td>0.232</td><td>0.0</td><td>0.029</td><td>-0.007</td><td>303200.0</td><td>265300.0</td><td>656500.0</td><td>13.217</td><td>13.224</td><td>13.232</td><td>0</td></tr><tr><td>2005-02-07 05:00:00 UTC</td><td>13.189</td><td>13.225</td><td>13.196</td><td>0.275</td><td>0.087</td><td>0.152</td><td>0.072</td><td>0.0</td><td>0.029</td><td>361100.0</td><td>303200.0</td><td>265300.0</td><td>13.203</td><td>13.212</td><td>13.221</td><td>1</td></tr><tr><td>2005-02-08 05:00:00 UTC</td><td>13.218</td><td>13.189</td><td>13.225</td><td>0.196</td><td>0.275</td><td>0.087</td><td>0.152</td><td>0.072</td><td>0.0</td><td>161900.0</td><td>361100.0</td><td>303200.0</td><td>13.211</td><td>13.214</td><td>13.221</td><td>0</td></tr></tbody></table></div>"
      ],
      "text/plain": [
       "shape: (5, 17)\n",
       "┌─────────────┬───────────┬───────────┬───────────┬───┬───────────┬───────────┬───────────┬────────┐\n",
       "│ Date        ┆ CloseLag1 ┆ CloseLag2 ┆ CloseLag3 ┆ … ┆ CloseEMA2 ┆ CloseEMA4 ┆ CloseEMA8 ┆ Target │\n",
       "│ ---         ┆ ---       ┆ ---       ┆ ---       ┆   ┆ ---       ┆ ---       ┆ ---       ┆ ---    │\n",
       "│ datetime[μs ┆ f64       ┆ f64       ┆ f64       ┆   ┆ f64       ┆ f64       ┆ f64       ┆ i32    │\n",
       "│ , UTC]      ┆           ┆           ┆           ┆   ┆           ┆           ┆           ┆        │\n",
       "╞═════════════╪═══════════╪═══════════╪═══════════╪═══╪═══════════╪═══════════╪═══════════╪════════╡\n",
       "│ 2005-02-02  ┆ 13.196    ┆ 13.189    ┆ 13.406    ┆ … ┆ 13.224    ┆ 13.241    ┆ 13.252    ┆ 0      │\n",
       "│ 05:00:00    ┆           ┆           ┆           ┆   ┆           ┆           ┆           ┆        │\n",
       "│ UTC         ┆           ┆           ┆           ┆   ┆           ┆           ┆           ┆        │\n",
       "│ 2005-02-03  ┆ 13.196    ┆ 13.196    ┆ 13.189    ┆ … ┆ 13.209    ┆ 13.224    ┆ 13.234    ┆ 1      │\n",
       "│ 05:00:00    ┆           ┆           ┆           ┆   ┆           ┆           ┆           ┆        │\n",
       "│ UTC         ┆           ┆           ┆           ┆   ┆           ┆           ┆           ┆        │\n",
       "│ 2005-02-04  ┆ 13.225    ┆ 13.196    ┆ 13.196    ┆ … ┆ 13.217    ┆ 13.224    ┆ 13.232    ┆ 0      │\n",
       "│ 05:00:00    ┆           ┆           ┆           ┆   ┆           ┆           ┆           ┆        │\n",
       "│ UTC         ┆           ┆           ┆           ┆   ┆           ┆           ┆           ┆        │\n",
       "│ 2005-02-07  ┆ 13.189    ┆ 13.225    ┆ 13.196    ┆ … ┆ 13.203    ┆ 13.212    ┆ 13.221    ┆ 1      │\n",
       "│ 05:00:00    ┆           ┆           ┆           ┆   ┆           ┆           ┆           ┆        │\n",
       "│ UTC         ┆           ┆           ┆           ┆   ┆           ┆           ┆           ┆        │\n",
       "│ 2005-02-08  ┆ 13.218    ┆ 13.189    ┆ 13.225    ┆ … ┆ 13.211    ┆ 13.214    ┆ 13.221    ┆ 0      │\n",
       "│ 05:00:00    ┆           ┆           ┆           ┆   ┆           ┆           ┆           ┆        │\n",
       "│ UTC         ┆           ┆           ┆           ┆   ┆           ┆           ┆           ┆        │\n",
       "└─────────────┴───────────┴───────────┴───────────┴───┴───────────┴───────────┴───────────┴────────┘"
      ]
     },
     "execution_count": 5,
     "metadata": {},
     "output_type": "execute_result"
    }
   ],
   "source": [
    "# Select Features for the Model, exclude current day price variables ... no \"leakage\"\n",
    "# note for moving averages, we have excluded the current day, and provide a 10-day gap\n",
    "# so these may be included in the set \n",
    "wti = wti.drop(['LogReturn', 'Open', 'High', 'Low', 'Close', 'Volume', 'HML', 'OMC'])\n",
    "wti.head()"
   ]
  },
  {
   "cell_type": "markdown",
   "metadata": {},
   "source": [
    "### Read Data for Nine Exchange Traded Funds\n",
    "The following code cells read data from nine exchange-traded funds (ETFs) selected to cover a wide range of asset classes. All of these funds have about a billion or more assets under management (AUM). We note the range of dates covered in each ETF DataFrame. Later we will ensure that the same date ranges are covered by WTI and the nine ETFs. Beginning dates vary, but all time series end on August 19, 2025. \n",
    "\n",
    "For each selected ETF, we compute a variable named **Up** that is 1 if the price of the ETF went up the previous day, zero if not."
   ]
  },
  {
   "cell_type": "code",
   "execution_count": 6,
   "metadata": {},
   "outputs": [
    {
     "name": "stdout",
     "output_type": "stream",
     "text": [
      "Schema({'Date': Datetime(time_unit='us', time_zone='UTC'), 'Open': Float64, 'High': Float64, 'Low': Float64, 'Close': Float64, 'Volume': Int64, 'CloseLag1': Float64, 'CloseLag2': Float64, 'SPYUp': Int32})\n",
      "['statistic', 'Date', 'Open', 'High', 'Low', 'Close', 'Volume', 'CloseLag1', 'CloseLag2', 'SPYUp']\n",
      "Schema({'column': String, 'column_0': String, 'column_2': String, 'column_3': String, 'column_4': String, 'column_6': String, 'column_8': String})\n",
      "┌───────────┬──────────┬─────────────────────────────────┬────────────────────┬───────────────────────────┬───────────────────────────┐\n",
      "│ column    ┆ column_0 ┆ column_2                        ┆ column_3           ┆ column_4                  ┆ column_8                  │\n",
      "╞═══════════╪══════════╪═════════════════════════════════╪════════════════════╪═══════════════════════════╪═══════════════════════════╡\n",
      "│ statistic ┆ count    ┆ mean                            ┆ std                ┆ min                       ┆ max                       │\n",
      "│ Date      ┆ 6444     ┆ 2012-10-26 16:36:45.027933+00:… ┆ null               ┆ 2000-01-05 05:00:00+00:00 ┆ 2025-08-19 04:00:00+00:00 │\n",
      "│ Open      ┆ 6444.0   ┆ 190.82591842184576              ┆ 144.02936415534128 ┆ 50.113057480959675        ┆ 645.989990234375          │\n",
      "│ High      ┆ 6444.0   ┆ 191.92668889779023              ┆ 144.7563930674051  ┆ 51.62493276253082         ┆ 646.1900024414062         │\n",
      "│ Low       ┆ 6444.0   ┆ 189.6269088728895               ┆ 143.23284984431902 ┆ 49.48618592302649         ┆ 642.6799926757812         │\n",
      "│ Close     ┆ 6444.0   ┆ 190.84933958343657              ┆ 144.06736661670922 ┆ 50.23106002807617         ┆ 644.9500122070312         │\n",
      "│ Volume    ┆ 6444.0   ┆ 105232386.51458721              ┆ 90179712.63917024  ┆ 1436600.0                 ┆ 871026300.0               │\n",
      "│ CloseLag1 ┆ 6444.0   ┆ 190.76379166087477              ┆ 143.96436701907055 ┆ 50.23106002807617         ┆ 644.9500122070312         │\n",
      "│ CloseLag2 ┆ 6444.0   ┆ 190.67826132712196              ┆ 143.85915506172498 ┆ 50.23106002807617         ┆ 644.9500122070312         │\n",
      "│ SPYUp     ┆ 6444.0   ┆ 0.5446927374301676              ┆ 0.4980371984141425 ┆ 0.0                       ┆ 1.0                       │\n",
      "└───────────┴──────────┴─────────────────────────────────┴────────────────────┴───────────────────────────┴───────────────────────────┘\n",
      "shape: (5, 9)\n",
      "┌───────────────┬───────────┬───────────┬───────────┬───┬──────────┬───────────┬───────────┬───────┐\n",
      "│ Date          ┆ Open      ┆ High      ┆ Low       ┆ … ┆ Volume   ┆ CloseLag1 ┆ CloseLag2 ┆ SPYUp │\n",
      "│ ---           ┆ ---       ┆ ---       ┆ ---       ┆   ┆ ---      ┆ ---       ┆ ---       ┆ ---   │\n",
      "│ datetime[μs,  ┆ f64       ┆ f64       ┆ f64       ┆   ┆ i64      ┆ f64       ┆ f64       ┆ i32   │\n",
      "│ UTC]          ┆           ┆           ┆           ┆   ┆          ┆           ┆           ┆       │\n",
      "╞═══════════════╪═══════════╪═══════════╪═══════════╪═══╪══════════╪═══════════╪═══════════╪═══════╡\n",
      "│ 2000-01-05    ┆ 88.657974 ┆ 89.6677   ┆ 86.955297 ┆ … ┆ 12177900 ┆ 88.539185 ┆ 92.142517 ┆ 0     │\n",
      "│ 05:00:00 UTC  ┆           ┆           ┆           ┆   ┆          ┆           ┆           ┆       │\n",
      "│ 2000-01-06    ┆ 88.459986 ┆ 89.6479   ┆ 87.272072 ┆ … ┆ 6227200  ┆ 88.697571 ┆ 88.539185 ┆ 1     │\n",
      "│ 05:00:00 UTC  ┆           ┆           ┆           ┆   ┆          ┆           ┆           ┆       │\n",
      "│ 2000-01-07    ┆ 88.895594 ┆ 92.340546 ┆ 88.737205 ┆ … ┆ 8066500  ┆ 87.272072 ┆ 88.697571 ┆ 0     │\n",
      "│ 05:00:00 UTC  ┆           ┆           ┆           ┆   ┆          ┆           ┆           ┆       │\n",
      "│ 2000-01-10    ┆ 92.657303 ┆ 93.073073 ┆ 91.885159 ┆ … ┆ 5741700  ┆ 92.340546 ┆ 87.272072 ┆ 1     │\n",
      "│ 05:00:00 UTC  ┆           ┆           ┆           ┆   ┆          ┆           ┆           ┆       │\n",
      "│ 2000-01-11    ┆ 92.380116 ┆ 92.558303 ┆ 90.915022 ┆ … ┆ 7503700  ┆ 92.657303 ┆ 92.340546 ┆ 1     │\n",
      "│ 05:00:00 UTC  ┆           ┆           ┆           ┆   ┆          ┆           ┆           ┆       │\n",
      "└───────────────┴───────────┴───────────┴───────────┴───┴──────────┴───────────┴───────────┴───────┘\n"
     ]
    }
   ],
   "source": [
    "# work with SPY data\n",
    "spy = pl.read_csv(\"../data/spy_daily_data.csv\", try_parse_dates=True)\n",
    "\n",
    "# drop useless columns Dividends, StockSplits, and CapitalGains\n",
    "spy = spy.drop(['Dividends', 'StockSplits', 'CapitalGains'])\n",
    "\n",
    "spy = spy.with_columns((pl.col('Close')).shift().alias('CloseLag1'))\n",
    "spy = spy.with_columns((pl.col('CloseLag1')).shift().alias('CloseLag2'))\n",
    "spy = spy.with_columns(pl.when(pl.col('CloseLag1')>pl.col('CloseLag2')).then(pl.lit(1)).otherwise(pl.lit(0)).alias('SPYUp'))\n",
    "# check the schema\n",
    "print(spy.schema)\n",
    "                       \n",
    "# Drop initial lag row\n",
    "spy = spy.drop_nulls()\n",
    "\n",
    "spyStatistics = spy.describe()\n",
    "print(spyStatistics.columns)\n",
    "spyStatisticsToPrint = spyStatistics.transpose(include_header=True).drop(['column_1', 'column_5', 'column_6', 'column_7'])\n",
    "print(wtiStatisticsToPrint.schema)\n",
    "with pl.Config(\n",
    "    tbl_rows = 60,\n",
    "    tbl_width_chars = 200,\n",
    "    tbl_cols = -1,\n",
    "    float_precision = 3,\n",
    "    tbl_hide_dataframe_shape = True,\n",
    "    tbl_hide_column_data_types = True):\n",
    "    print(spyStatisticsToPrint)\n",
    "\n",
    "# print a few records at the beginning of the DataFrame\n",
    "print(spy.head())"
   ]
  },
  {
   "cell_type": "code",
   "execution_count": 7,
   "metadata": {},
   "outputs": [
    {
     "name": "stdout",
     "output_type": "stream",
     "text": [
      "Schema({'Date': Datetime(time_unit='us', time_zone='UTC'), 'Open': Float64, 'High': Float64, 'Low': Float64, 'Close': Float64, 'Volume': Int64, 'CloseLag1': Float64, 'CloseLag2': Float64, 'GLDUp': Int32})\n",
      "['statistic', 'Date', 'Open', 'High', 'Low', 'Close', 'Volume', 'CloseLag1', 'CloseLag2', 'GLDUp']\n",
      "Schema({'column': String, 'column_0': String, 'column_2': String, 'column_3': String, 'column_4': String, 'column_6': String, 'column_8': String})\n",
      "┌───────────┬──────────┬─────────────────────────────────┬─────────────────────┬───────────────────────────┬───────────────────────────┐\n",
      "│ column    ┆ column_0 ┆ column_2                        ┆ column_3            ┆ column_4                  ┆ column_8                  │\n",
      "╞═══════════╪══════════╪═════════════════════════════════╪═════════════════════╪═══════════════════════════╪═══════════════════════════╡\n",
      "│ statistic ┆ count    ┆ mean                            ┆ std                 ┆ min                       ┆ max                       │\n",
      "│ Date      ┆ 5218     ┆ 2015-04-04 10:38:49.858183+00:… ┆ null                ┆ 2004-11-22 05:00:00+00:00 ┆ 2025-08-19 04:00:00+00:00 │\n",
      "│ Open      ┆ 5218.0   ┆ 132.1412112242237               ┆ 51.52670299042503   ┆ 41.029998779296875        ┆ 317.489990234375          │\n",
      "│ High      ┆ 5218.0   ┆ 132.77317369738134              ┆ 51.70272920655233   ┆ 41.36000061035156         ┆ 317.6300048828125         │\n",
      "│ Low       ┆ 5218.0   ┆ 131.45804141663464              ┆ 51.31802554569786   ┆ 41.02000045776367         ┆ 315.0400085449219         │\n",
      "│ Close     ┆ 5218.0   ┆ 132.14241081638417              ┆ 51.533912524483476  ┆ 41.2599983215332          ┆ 316.2900085449219         │\n",
      "│ Volume    ┆ 5218.0   ┆ 9420078.114220008               ┆ 6644238.186068209   ┆ 319300.0                  ┆ 93804200.0                │\n",
      "│ CloseLag1 ┆ 5218.0   ┆ 132.09248939242204              ┆ 51.49232280202278   ┆ 41.2599983215332          ┆ 316.2900085449219         │\n",
      "│ CloseLag2 ┆ 5218.0   ┆ 132.0421693442927               ┆ 51.44969185599339   ┆ 41.2599983215332          ┆ 316.2900085449219         │\n",
      "│ GLDUp     ┆ 5218.0   ┆ 0.5298965120735915              ┆ 0.49915323048311416 ┆ 0.0                       ┆ 1.0                       │\n",
      "└───────────┴──────────┴─────────────────────────────────┴─────────────────────┴───────────────────────────┴───────────────────────────┘\n",
      "shape: (5, 9)\n",
      "┌───────────────┬───────────┬───────────┬───────────┬───┬──────────┬───────────┬───────────┬───────┐\n",
      "│ Date          ┆ Open      ┆ High      ┆ Low       ┆ … ┆ Volume   ┆ CloseLag1 ┆ CloseLag2 ┆ GLDUp │\n",
      "│ ---           ┆ ---       ┆ ---       ┆ ---       ┆   ┆ ---      ┆ ---       ┆ ---       ┆ ---   │\n",
      "│ datetime[μs,  ┆ f64       ┆ f64       ┆ f64       ┆   ┆ i64      ┆ f64       ┆ f64       ┆ i32   │\n",
      "│ UTC]          ┆           ┆           ┆           ┆   ┆          ┆           ┆           ┆       │\n",
      "╞═══════════════╪═══════════╪═══════════╪═══════════╪═══╪══════════╪═══════════╪═══════════╪═══════╡\n",
      "│ 2004-11-22    ┆ 44.75     ┆ 44.970001 ┆ 44.740002 ┆ … ┆ 11996000 ┆ 44.779999 ┆ 44.380001 ┆ 1     │\n",
      "│ 05:00:00 UTC  ┆           ┆           ┆           ┆   ┆          ┆           ┆           ┆       │\n",
      "│ 2004-11-23    ┆ 44.880001 ┆ 44.919998 ┆ 44.720001 ┆ … ┆ 3169200  ┆ 44.950001 ┆ 44.779999 ┆ 1     │\n",
      "│ 05:00:00 UTC  ┆           ┆           ┆           ┆   ┆          ┆           ┆           ┆       │\n",
      "│ 2004-11-24    ┆ 44.93     ┆ 45.049999 ┆ 44.790001 ┆ … ┆ 6105100  ┆ 44.75     ┆ 44.950001 ┆ 0     │\n",
      "│ 05:00:00 UTC  ┆           ┆           ┆           ┆   ┆          ┆           ┆           ┆       │\n",
      "│ 2004-11-26    ┆ 45.25     ┆ 45.599998 ┆ 45.060001 ┆ … ┆ 3097700  ┆ 45.049999 ┆ 44.75     ┆ 1     │\n",
      "│ 05:00:00 UTC  ┆           ┆           ┆           ┆   ┆          ┆           ┆           ┆       │\n",
      "│ 2004-11-29    ┆ 45.099998 ┆ 45.5      ┆ 45.080002 ┆ … ┆ 3759000  ┆ 45.290001 ┆ 45.049999 ┆ 1     │\n",
      "│ 05:00:00 UTC  ┆           ┆           ┆           ┆   ┆          ┆           ┆           ┆       │\n",
      "└───────────────┴───────────┴───────────┴───────────┴───┴──────────┴───────────┴───────────┴───────┘\n"
     ]
    }
   ],
   "source": [
    "# work with GLD data\n",
    "gld = pl.read_csv(\"../data/gld_daily_data.csv\", try_parse_dates=True)\n",
    "\n",
    "# drop useless columns Dividends, StockSplits, and CapitalGains\n",
    "gld = gld.drop(['Dividends', 'StockSplits', 'CapitalGains'])\n",
    "\n",
    "gld = gld.with_columns((pl.col('Close')).shift().alias('CloseLag1'))\n",
    "gld = gld.with_columns((pl.col('CloseLag1')).shift().alias('CloseLag2'))\n",
    "gld = gld.with_columns(pl.when(pl.col('CloseLag1')>pl.col('CloseLag2')).then(pl.lit(1)).otherwise(pl.lit(0)).alias('GLDUp'))\n",
    "# check the schema\n",
    "print(gld.schema)\n",
    "                       \n",
    "# Drop initial lag row\n",
    "gld = gld.drop_nulls()\n",
    "\n",
    "gldStatistics = gld.describe()\n",
    "print(gldStatistics.columns)\n",
    "gldStatisticsToPrint = gldStatistics.transpose(include_header=True).drop(['column_1', 'column_5', 'column_6', 'column_7'])\n",
    "print(wtiStatisticsToPrint.schema)\n",
    "with pl.Config(\n",
    "    tbl_rows = 60,\n",
    "    tbl_width_chars = 200,\n",
    "    tbl_cols = -1,\n",
    "    float_precision = 3,\n",
    "    tbl_hide_dataframe_shape = True,\n",
    "    tbl_hide_column_data_types = True):\n",
    "    print(gldStatisticsToPrint)\n",
    "\n",
    "# print a few records at the beginning of the DataFrame\n",
    "print(gld.head())"
   ]
  },
  {
   "cell_type": "code",
   "execution_count": 8,
   "metadata": {},
   "outputs": [
    {
     "name": "stdout",
     "output_type": "stream",
     "text": [
      "Schema({'Date': Datetime(time_unit='us', time_zone='UTC'), 'Open': Float64, 'High': Float64, 'Low': Float64, 'Close': Float64, 'Volume': Int64, 'CloseLag1': Float64, 'CloseLag2': Float64, 'VGTUp': Int32})\n",
      "['statistic', 'Date', 'Open', 'High', 'Low', 'Close', 'Volume', 'CloseLag1', 'CloseLag2', 'VGTUp']\n",
      "Schema({'column': String, 'column_0': String, 'column_2': String, 'column_3': String, 'column_4': String, 'column_6': String, 'column_8': String})\n",
      "┌───────────┬──────────┬─────────────────────────────────┬────────────────────┬───────────────────────────┬───────────────────────────┐\n",
      "│ column    ┆ column_0 ┆ column_2                        ┆ column_3           ┆ column_4                  ┆ column_8                  │\n",
      "╞═══════════╪══════════╪═════════════════════════════════╪════════════════════╪═══════════════════════════╪═══════════════════════════╡\n",
      "│ statistic ┆ count    ┆ mean                            ┆ std                ┆ min                       ┆ max                       │\n",
      "│ Date      ┆ 5421     ┆ 2014-11-08 04:40:16.602103+00:… ┆ null               ┆ 2004-02-03 05:00:00+00:00 ┆ 2025-08-19 04:00:00+00:00 │\n",
      "│ Open      ┆ 5421.0   ┆ 167.88651112658872              ┆ 165.87005650920398 ┆ 25.400250326119036        ┆ 710.0499877929688         │\n",
      "│ High      ┆ 5421.0   ┆ 169.15025730560342              ┆ 167.19942905975995 ┆ 26.273459632207647        ┆ 710.8800048828125         │\n",
      "│ Low       ┆ 5421.0   ┆ 166.46979142040922              ┆ 164.35842233160983 ┆ 24.68993342530967         ┆ 704.0                     │\n",
      "│ Close     ┆ 5421.0   ┆ 167.9006570834688               ┆ 165.88368753316217 ┆ 25.04936981201172         ┆ 707.2899780273438         │\n",
      "│ Volume    ┆ 5421.0   ┆ 360279.91145545105              ┆ 400808.0053902826  ┆ 0.0                       ┆ 6564500.0                 │\n",
      "│ CloseLag1 ┆ 5421.0   ┆ 167.78119283618796              ┆ 165.74161113685028 ┆ 25.04936981201172         ┆ 707.2899780273438         │\n",
      "│ CloseLag2 ┆ 5421.0   ┆ 167.65927450781356              ┆ 165.59152803560164 ┆ 25.04936981201172         ┆ 707.2899780273438         │\n",
      "│ VGTUp     ┆ 5421.0   ┆ 0.5543257701531082              ┆ 0.4970857990731627 ┆ 0.0                       ┆ 1.0                       │\n",
      "└───────────┴──────────┴─────────────────────────────────┴────────────────────┴───────────────────────────┴───────────────────────────┘\n",
      "shape: (5, 9)\n",
      "┌──────────────┬───────────┬───────────┬───────────┬───┬────────┬───────────┬───────────┬───────┐\n",
      "│ Date         ┆ Open      ┆ High      ┆ Low       ┆ … ┆ Volume ┆ CloseLag1 ┆ CloseLag2 ┆ VGTUp │\n",
      "│ ---          ┆ ---       ┆ ---       ┆ ---       ┆   ┆ ---    ┆ ---       ┆ ---       ┆ ---   │\n",
      "│ datetime[μs, ┆ f64       ┆ f64       ┆ f64       ┆   ┆ i64    ┆ f64       ┆ f64       ┆ i32   │\n",
      "│ UTC]         ┆           ┆           ┆           ┆   ┆        ┆           ┆           ┆       │\n",
      "╞══════════════╪═══════════╪═══════════╪═══════════╪═══╪════════╪═══════════╪═══════════╪═══════╡\n",
      "│ 2004-02-03   ┆ 40.925945 ┆ 40.942719 ┆ 40.774989 ┆ … ┆ 231100 ┆ 41.194313 ┆ 41.160759 ┆ 1     │\n",
      "│ 05:00:00 UTC ┆           ┆           ┆           ┆   ┆        ┆           ┆           ┆       │\n",
      "│ 2004-02-04   ┆ 39.83571  ┆ 39.83571  ┆ 39.709911 ┆ … ┆ 51000  ┆ 40.942719 ┆ 41.194313 ┆ 0     │\n",
      "│ 05:00:00 UTC ┆           ┆           ┆           ┆   ┆        ┆           ┆           ┆       │\n",
      "│ 2004-02-05   ┆ 40.003442 ┆ 40.003442 ┆ 39.709913 ┆ … ┆ 2600   ┆ 39.709911 ┆ 40.942719 ┆ 0     │\n",
      "│ 05:00:00 UTC ┆           ┆           ┆           ┆   ┆        ┆           ┆           ┆       │\n",
      "│ 2004-02-06   ┆ 40.17116  ┆ 40.716278 ┆ 40.17116  ┆ … ┆ 1000   ┆ 39.91119  ┆ 39.709911 ┆ 1     │\n",
      "│ 05:00:00 UTC ┆           ┆           ┆           ┆   ┆        ┆           ┆           ┆       │\n",
      "│ 2004-02-09   ┆ 40.791757 ┆ 40.917555 ┆ 40.607254 ┆ … ┆ 3200   ┆ 40.716278 ┆ 39.91119  ┆ 1     │\n",
      "│ 05:00:00 UTC ┆           ┆           ┆           ┆   ┆        ┆           ┆           ┆       │\n",
      "└──────────────┴───────────┴───────────┴───────────┴───┴────────┴───────────┴───────────┴───────┘\n"
     ]
    }
   ],
   "source": [
    "# work with VGT data\n",
    "vgt = pl.read_csv(\"../data/vgt_daily_data.csv\", try_parse_dates=True)\n",
    "\n",
    "# drop useless columns Dividends, StockSplits, and CapitalGains\n",
    "vgt = vgt.drop(['Dividends', 'StockSplits', 'CapitalGains'])\n",
    "\n",
    "vgt = vgt.with_columns((pl.col('Close')).shift().alias('CloseLag1'))\n",
    "vgt = vgt.with_columns((pl.col('CloseLag1')).shift().alias('CloseLag2'))\n",
    "vgt = vgt.with_columns(pl.when(pl.col('CloseLag1')>pl.col('CloseLag2')).then(pl.lit(1)).otherwise(pl.lit(0)).alias('VGTUp'))\n",
    "# check the schema\n",
    "print(vgt.schema)\n",
    "                       \n",
    "# Drop initial lag row\n",
    "vgt = vgt.drop_nulls()\n",
    "\n",
    "vgtStatistics = vgt.describe()\n",
    "print(vgtStatistics.columns)\n",
    "vgtStatisticsToPrint = vgtStatistics.transpose(include_header=True).drop(['column_1', 'column_5', 'column_6', 'column_7'])\n",
    "print(wtiStatisticsToPrint.schema)\n",
    "with pl.Config(\n",
    "    tbl_rows = 60,\n",
    "    tbl_width_chars = 200,\n",
    "    tbl_cols = -1,\n",
    "    float_precision = 3,\n",
    "    tbl_hide_dataframe_shape = True,\n",
    "    tbl_hide_column_data_types = True):\n",
    "    print(vgtStatisticsToPrint)\n",
    "\n",
    "# print a few records at the beginning of the DataFrame\n",
    "print(vgt.head())"
   ]
  },
  {
   "cell_type": "code",
   "execution_count": 9,
   "metadata": {},
   "outputs": [
    {
     "name": "stdout",
     "output_type": "stream",
     "text": [
      "Schema({'Date': Datetime(time_unit='us', time_zone='UTC'), 'Open': Float64, 'High': Float64, 'Low': Float64, 'Close': Float64, 'Volume': Int64, 'CloseLag1': Float64, 'CloseLag2': Float64, 'VBUp': Int32})\n",
      "['statistic', 'Date', 'Open', 'High', 'Low', 'Close', 'Volume', 'CloseLag1', 'CloseLag2', 'VBUp']\n",
      "Schema({'column': String, 'column_0': String, 'column_2': String, 'column_3': String, 'column_4': String, 'column_6': String, 'column_8': String})\n",
      "┌───────────┬──────────┬─────────────────────────────────┬─────────────────────┬───────────────────────────┬───────────────────────────┐\n",
      "│ column    ┆ column_0 ┆ column_2                        ┆ column_3            ┆ column_4                  ┆ column_8                  │\n",
      "╞═══════════╪══════════╪═════════════════════════════════╪═════════════════════╪═══════════════════════════╪═══════════════════════════╡\n",
      "│ statistic ┆ count    ┆ mean                            ┆ std                 ┆ min                       ┆ max                       │\n",
      "│ Date      ┆ 5421     ┆ 2014-11-08 04:40:16.602103+00:… ┆ null                ┆ 2004-02-03 05:00:00+00:00 ┆ 2025-08-19 04:00:00+00:00 │\n",
      "│ Open      ┆ 5421.0   ┆ 106.9052813338388               ┆ 62.1452158206943    ┆ 23.633474085495507        ┆ 258.1815273395355         │\n",
      "│ High      ┆ 5421.0   ┆ 107.60790542830034              ┆ 62.54629697613005   ┆ 24.28031945289275         ┆ 260.4463040442688         │\n",
      "│ Low       ┆ 5421.0   ┆ 106.04389329572601              ┆ 61.673058648440175  ┆ 19.9520221629505          ┆ 257.5090323220884         │\n",
      "│ Close     ┆ 5421.0   ┆ 106.86636685982025              ┆ 62.11471701676378   ┆ 23.546703338623047        ┆ 258.69580078125           │\n",
      "│ Volume    ┆ 5421.0   ┆ 491339.45766463754              ┆ 522990.5325407978   ┆ 200.0                     ┆ 9288100.0                 │\n",
      "│ CloseLag1 ┆ 5421.0   ┆ 106.82761647115882              ┆ 62.09329247825284   ┆ 23.546703338623047        ┆ 258.69580078125           │\n",
      "│ CloseLag2 ┆ 5421.0   ┆ 106.78877441576543              ┆ 62.07172201176196   ┆ 23.546703338623047        ┆ 258.69580078125           │\n",
      "│ VBUp      ┆ 5421.0   ┆ 0.5366168603578676              ┆ 0.49870340245454003 ┆ 0.0                       ┆ 1.0                       │\n",
      "└───────────┴──────────┴─────────────────────────────────┴─────────────────────┴───────────────────────────┴───────────────────────────┘\n",
      "shape: (5, 9)\n",
      "┌──────────────┬───────────┬───────────┬───────────┬───┬────────┬───────────┬───────────┬──────┐\n",
      "│ Date         ┆ Open      ┆ High      ┆ Low       ┆ … ┆ Volume ┆ CloseLag1 ┆ CloseLag2 ┆ VBUp │\n",
      "│ ---          ┆ ---       ┆ ---       ┆ ---       ┆   ┆ ---    ┆ ---       ┆ ---       ┆ ---  │\n",
      "│ datetime[μs, ┆ f64       ┆ f64       ┆ f64       ┆   ┆ i64    ┆ f64       ┆ f64       ┆ i32  │\n",
      "│ UTC]         ┆           ┆           ┆           ┆   ┆        ┆           ┆           ┆      │\n",
      "╞══════════════╪═══════════╪═══════════╪═══════════╪═══╪════════╪═══════════╪═══════════╪══════╡\n",
      "│ 2004-02-03   ┆ 36.107417 ┆ 36.18088  ┆ 36.048645 ┆ … ┆ 1200   ┆ 36.14415  ┆ 35.997215 ┆ 1    │\n",
      "│ 05:00:00 UTC ┆           ┆           ┆           ┆   ┆        ┆           ┆           ┆      │\n",
      "│ 2004-02-04   ┆ 35.872324 ┆ 35.872324 ┆ 35.299305 ┆ … ┆ 1600   ┆ 36.048645 ┆ 36.14415  ┆ 0    │\n",
      "│ 05:00:00 UTC ┆           ┆           ┆           ┆   ┆        ┆           ┆           ┆      │\n",
      "│ 2004-02-05   ┆ 35.549099 ┆ 35.622565 ┆ 35.336054 ┆ … ┆ 4000   ┆ 35.299305 ┆ 36.048645 ┆ 0    │\n",
      "│ 05:00:00 UTC ┆           ┆           ┆           ┆   ┆        ┆           ┆           ┆      │\n",
      "│ 2004-02-06   ┆ 35.615208 ┆ 36.254341 ┆ 35.615208 ┆ … ┆ 2000   ┆ 35.409519 ┆ 35.299305 ┆ 1    │\n",
      "│ 05:00:00 UTC ┆           ┆           ┆           ┆   ┆        ┆           ┆           ┆      │\n",
      "│ 2004-02-09   ┆ 36.511441 ┆ 36.636328 ┆ 36.504093 ┆ … ┆ 2900   ┆ 36.254341 ┆ 35.409519 ┆ 1    │\n",
      "│ 05:00:00 UTC ┆           ┆           ┆           ┆   ┆        ┆           ┆           ┆      │\n",
      "└──────────────┴───────────┴───────────┴───────────┴───┴────────┴───────────┴───────────┴──────┘\n"
     ]
    }
   ],
   "source": [
    "# work with VB data\n",
    "vb = pl.read_csv(\"../data/vb_daily_data.csv\", try_parse_dates=True)\n",
    "\n",
    "# drop useless columns Dividends, StockSplits, and CapitalGains\n",
    "vb = vb.drop(['Dividends', 'StockSplits', 'CapitalGains'])\n",
    "\n",
    "vb = vb.with_columns((pl.col('Close')).shift().alias('CloseLag1'))\n",
    "vb = vb.with_columns((pl.col('CloseLag1')).shift().alias('CloseLag2'))\n",
    "vb = vb.with_columns(pl.when(pl.col('CloseLag1')>pl.col('CloseLag2')).then(pl.lit(1)).otherwise(pl.lit(0)).alias('VBUp'))\n",
    "# check the schema\n",
    "print(vb.schema)\n",
    "                       \n",
    "# Drop initial lag row\n",
    "vb = vb.drop_nulls()\n",
    "\n",
    "vbStatistics = vb.describe()\n",
    "print(vbStatistics.columns)\n",
    "vbStatisticsToPrint = vbStatistics.transpose(include_header=True).drop(['column_1', 'column_5', 'column_6', 'column_7'])\n",
    "print(wtiStatisticsToPrint.schema)\n",
    "with pl.Config(\n",
    "    tbl_rows = 60,\n",
    "    tbl_width_chars = 200,\n",
    "    tbl_cols = -1,\n",
    "    float_precision = 3,\n",
    "    tbl_hide_dataframe_shape = True,\n",
    "    tbl_hide_column_data_types = True):\n",
    "    print(vbStatisticsToPrint)\n",
    "\n",
    "# print a few records at the beginning of the DataFrame\n",
    "print(vb.head())"
   ]
  },
  {
   "cell_type": "code",
   "execution_count": 10,
   "metadata": {},
   "outputs": [
    {
     "name": "stdout",
     "output_type": "stream",
     "text": [
      "Schema({'Date': Datetime(time_unit='us', time_zone='UTC'), 'Open': Float64, 'High': Float64, 'Low': Float64, 'Close': Float64, 'Volume': Int64, 'CloseLag1': Float64, 'CloseLag2': Float64, 'IVEUp': Int32})\n",
      "['statistic', 'Date', 'Open', 'High', 'Low', 'Close', 'Volume', 'CloseLag1', 'CloseLag2', 'IVEUp']\n",
      "Schema({'column': String, 'column_0': String, 'column_2': String, 'column_3': String, 'column_4': String, 'column_6': String, 'column_8': String})\n",
      "┌───────────┬──────────┬─────────────────────────────────┬─────────────────────┬───────────────────────────┬───────────────────────────┐\n",
      "│ column    ┆ column_0 ┆ column_2                        ┆ column_3            ┆ column_4                  ┆ column_8                  │\n",
      "╞═══════════╪══════════╪═════════════════════════════════╪═════════════════════╪═══════════════════════════╪═══════════════════════════╡\n",
      "│ statistic ┆ count    ┆ mean                            ┆ std                 ┆ min                       ┆ max                       │\n",
      "│ Date      ┆ 6343     ┆ 2013-01-08 00:46:19.883336+00:… ┆ null                ┆ 2000-05-31 04:00:00+00:00 ┆ 2025-08-19 04:00:00+00:00 │\n",
      "│ Open      ┆ 6343.0   ┆ 74.6655833423332                ┆ 46.11985052593699   ┆ 21.26051340242963         ┆ 203.21139722740784        │\n",
      "│ High      ┆ 6343.0   ┆ 75.06144188464853               ┆ 46.32247720139887   ┆ 22.014917670226524        ┆ 203.8427634546091         │\n",
      "│ Low       ┆ 6343.0   ┆ 74.22128225486621               ┆ 45.922028399013676  ┆ 20.797465831147417        ┆ 202.95489456330537        │\n",
      "│ Close     ┆ 6343.0   ┆ 74.66454975014508               ┆ 46.129873687318245  ┆ 21.3702449798584          ┆ 203.3889617919922         │\n",
      "│ Volume    ┆ 6343.0   ┆ 677624.5940406747               ┆ 792860.168455924    ┆ 400.0                     ┆ 20403600.0                │\n",
      "│ CloseLag1 ┆ 6343.0   ┆ 74.63817534400859               ┆ 46.10495666736668   ┆ 21.3702449798584          ┆ 203.3889617919922         │\n",
      "│ CloseLag2 ┆ 6343.0   ┆ 74.61178671650268               ┆ 46.080269741101944  ┆ 21.3702449798584          ┆ 203.3889617919922         │\n",
      "│ IVEUp     ┆ 6343.0   ┆ 0.5344474223553524              ┆ 0.49885128818986785 ┆ 0.0                       ┆ 1.0                       │\n",
      "└───────────┴──────────┴─────────────────────────────────┴─────────────────────┴───────────────────────────┴───────────────────────────┘\n",
      "shape: (5, 9)\n",
      "┌──────────────┬───────────┬───────────┬───────────┬───┬────────┬───────────┬───────────┬───────┐\n",
      "│ Date         ┆ Open      ┆ High      ┆ Low       ┆ … ┆ Volume ┆ CloseLag1 ┆ CloseLag2 ┆ IVEUp │\n",
      "│ ---          ┆ ---       ┆ ---       ┆ ---       ┆   ┆ ---    ┆ ---       ┆ ---       ┆ ---   │\n",
      "│ datetime[μs, ┆ f64       ┆ f64       ┆ f64       ┆   ┆ i64    ┆ f64       ┆ f64       ┆ i32   │\n",
      "│ UTC]         ┆           ┆           ┆           ┆   ┆        ┆           ┆           ┆       │\n",
      "╞══════════════╪═══════════╪═══════════╪═══════════╪═══╪════════╪═══════════╪═══════════╪═══════╡\n",
      "│ 2000-05-31   ┆ 34.549207 ┆ 34.899005 ┆ 34.549207 ┆ … ┆ 12200  ┆ 34.567142 ┆ 34.046928 ┆ 1     │\n",
      "│ 04:00:00 UTC ┆           ┆           ┆           ┆   ┆        ┆           ┆           ┆       │\n",
      "│ 2000-06-01   ┆ 34.890046 ┆ 35.257782 ┆ 34.836231 ┆ … ┆ 25400  ┆ 34.827251 ┆ 34.567142 ┆ 1     │\n",
      "│ 04:00:00 UTC ┆           ┆           ┆           ┆   ┆        ┆           ┆           ┆       │\n",
      "│ 2000-06-02   ┆ 35.858717 ┆ 35.93047  ┆ 35.751087 ┆ … ┆ 10000  ┆ 35.257782 ┆ 34.827251 ┆ 1     │\n",
      "│ 04:00:00 UTC ┆           ┆           ┆           ┆   ┆        ┆           ┆           ┆       │\n",
      "│ 2000-06-05   ┆ 35.786959 ┆ 35.786959 ┆ 35.544792 ┆ … ┆ 15500  ┆ 35.751087 ┆ 35.257782 ┆ 1     │\n",
      "│ 04:00:00 UTC ┆           ┆           ┆           ┆   ┆        ┆           ┆           ┆       │\n",
      "│ 2000-06-06   ┆ 35.508916 ┆ 35.544792 ┆ 35.508916 ┆ … ┆ 4100   ┆ 35.589638 ┆ 35.751087 ┆ 0     │\n",
      "│ 04:00:00 UTC ┆           ┆           ┆           ┆   ┆        ┆           ┆           ┆       │\n",
      "└──────────────┴───────────┴───────────┴───────────┴───┴────────┴───────────┴───────────┴───────┘\n"
     ]
    }
   ],
   "source": [
    "# work with IVE data\n",
    "ive = pl.read_csv(\"../data/ive_daily_data.csv\", try_parse_dates=True)\n",
    "\n",
    "# drop useless columns Dividends, StockSplits, and CapitalGains\n",
    "ive = ive.drop(['Dividends', 'StockSplits', 'CapitalGains'])\n",
    "\n",
    "ive = ive.with_columns((pl.col('Close')).shift().alias('CloseLag1'))\n",
    "ive = ive.with_columns((pl.col('CloseLag1')).shift().alias('CloseLag2'))\n",
    "ive = ive.with_columns(pl.when(pl.col('CloseLag1')>pl.col('CloseLag2')).then(pl.lit(1)).otherwise(pl.lit(0)).alias('IVEUp'))\n",
    "# check the schema\n",
    "print(ive.schema)\n",
    "                       \n",
    "# Drop initial lag row\n",
    "ive = ive.drop_nulls()\n",
    "\n",
    "iveStatistics = ive.describe()\n",
    "print(iveStatistics.columns)\n",
    "iveStatisticsToPrint = iveStatistics.transpose(include_header=True).drop(['column_1', 'column_5', 'column_6', 'column_7'])\n",
    "print(wtiStatisticsToPrint.schema)\n",
    "with pl.Config(\n",
    "    tbl_rows = 60,\n",
    "    tbl_width_chars = 200,\n",
    "    tbl_cols = -1,\n",
    "    float_precision = 3,\n",
    "    tbl_hide_dataframe_shape = True,\n",
    "    tbl_hide_column_data_types = True):\n",
    "    print(iveStatisticsToPrint)\n",
    "\n",
    "# print a few records at the beginning of the DataFrame\n",
    "print(ive.head())"
   ]
  },
  {
   "cell_type": "code",
   "execution_count": 11,
   "metadata": {},
   "outputs": [
    {
     "name": "stdout",
     "output_type": "stream",
     "text": [
      "Schema({'Date': Datetime(time_unit='us', time_zone='UTC'), 'Open': Float64, 'High': Float64, 'Low': Float64, 'Close': Float64, 'Volume': Int64, 'CloseLag1': Float64, 'CloseLag2': Float64, 'XLIUp': Int32})\n",
      "['statistic', 'Date', 'Open', 'High', 'Low', 'Close', 'Volume', 'CloseLag1', 'CloseLag2', 'XLIUp']\n",
      "Schema({'column': String, 'column_0': String, 'column_2': String, 'column_3': String, 'column_4': String, 'column_6': String, 'column_8': String})\n",
      "┌───────────┬──────────┬─────────────────────────────────┬────────────────────┬───────────────────────────┬───────────────────────────┐\n",
      "│ column    ┆ column_0 ┆ column_2                        ┆ column_3           ┆ column_4                  ┆ column_8                  │\n",
      "╞═══════════╪══════════╪═════════════════════════════════╪════════════════════╪═══════════════════════════╪═══════════════════════════╡\n",
      "│ statistic ┆ count    ┆ mean                            ┆ std                ┆ min                       ┆ max                       │\n",
      "│ Date      ┆ 6444     ┆ 2012-10-26 16:36:45.027933+00:… ┆ null               ┆ 2000-01-05 05:00:00+00:00 ┆ 2025-08-19 04:00:00+00:00 │\n",
      "│ Open      ┆ 6444.0   ┆ 47.13428678572114               ┆ 33.75933048208735  ┆ 11.236274653018539        ┆ 155.07000732421875        │\n",
      "│ High      ┆ 6444.0   ┆ 47.445254711260986              ┆ 33.95744459372276  ┆ 11.497583816634966        ┆ 155.14999389648438        │\n",
      "│ Low       ┆ 6444.0   ┆ 46.80200222742193               ┆ 33.55937913538951  ┆ 10.989484954974614        ┆ 154.07000732421875        │\n",
      "│ Close     ┆ 6444.0   ┆ 47.13715054336207               ┆ 33.76749713408024  ┆ 11.149171829223633        ┆ 154.99000549316406        │\n",
      "│ Volume    ┆ 6444.0   ┆ 8557567.116697703               ┆ 7392044.013283453  ┆ 400.0                     ┆ 79118200.0                │\n",
      "│ CloseLag1 ┆ 6444.0   ┆ 47.1164178205972                ┆ 33.74450283125619  ┆ 11.149171829223633        ┆ 154.99000549316406        │\n",
      "│ CloseLag2 ┆ 6444.0   ┆ 47.09581460485097               ┆ 33.72157067152891  ┆ 11.149171829223633        ┆ 154.99000549316406        │\n",
      "│ XLIUp     ┆ 6444.0   ┆ 0.5332091868404718              ┆ 0.4989346455594378 ┆ 0.0                       ┆ 1.0                       │\n",
      "└───────────┴──────────┴─────────────────────────────────┴────────────────────┴───────────────────────────┴───────────────────────────┘\n",
      "shape: (5, 9)\n",
      "┌──────────────┬───────────┬───────────┬───────────┬───┬────────┬───────────┬───────────┬───────┐\n",
      "│ Date         ┆ Open      ┆ High      ┆ Low       ┆ … ┆ Volume ┆ CloseLag1 ┆ CloseLag2 ┆ XLIUp │\n",
      "│ ---          ┆ ---       ┆ ---       ┆ ---       ┆   ┆ ---    ┆ ---       ┆ ---       ┆ ---   │\n",
      "│ datetime[μs, ┆ f64       ┆ f64       ┆ f64       ┆   ┆ i64    ┆ f64       ┆ f64       ┆ i32   │\n",
      "│ UTC]         ┆           ┆           ┆           ┆   ┆        ┆           ┆           ┆       │\n",
      "╞══════════════╪═══════════╪═══════════╪═══════════╪═══╪════════╪═══════════╪═══════════╪═══════╡\n",
      "│ 2000-01-05   ┆ 17.728652 ┆ 17.807798 ┆ 17.550574 ┆ … ┆ 129200 ┆ 17.758335 ┆ 18.262877 ┆ 0     │\n",
      "│ 05:00:00 UTC ┆           ┆           ┆           ┆   ┆        ┆           ┆           ┆       │\n",
      "│ 2000-01-06   ┆ 17.679196 ┆ 17.9661   ┆ 17.609944 ┆ … ┆ 54000  ┆ 17.679186 ┆ 17.758335 ┆ 0     │\n",
      "│ 05:00:00 UTC ┆           ┆           ┆           ┆   ┆        ┆           ┆           ┆       │\n",
      "│ 2000-01-07   ┆ 18.124382 ┆ 18.599257 ┆ 18.124382 ┆ … ┆ 32900  ┆ 17.916634 ┆ 17.679186 ┆ 1     │\n",
      "│ 05:00:00 UTC ┆           ┆           ┆           ┆   ┆        ┆           ┆           ┆       │\n",
      "│ 2000-01-10   ┆ 18.698189 ┆ 18.757548 ┆ 18.539897 ┆ … ┆ 122500 ┆ 18.599257 ┆ 17.916634 ┆ 1     │\n",
      "│ 05:00:00 UTC ┆           ┆           ┆           ┆   ┆        ┆           ┆           ┆       │\n",
      "│ 2000-01-11   ┆ 18.658613 ┆ 18.658613 ┆ 18.361816 ┆ … ┆ 109800 ┆ 18.599257 ┆ 18.599257 ┆ 0     │\n",
      "│ 05:00:00 UTC ┆           ┆           ┆           ┆   ┆        ┆           ┆           ┆       │\n",
      "└──────────────┴───────────┴───────────┴───────────┴───┴────────┴───────────┴───────────┴───────┘\n"
     ]
    }
   ],
   "source": [
    "# work with XLI data\n",
    "xli = pl.read_csv(\"../data/xli_daily_data.csv\", try_parse_dates=True)\n",
    "\n",
    "# drop useless columns Dividends, StockSplits, and CapitalGains\n",
    "xli = xli.drop(['Dividends', 'StockSplits', 'CapitalGains'])\n",
    "\n",
    "xli = xli.with_columns((pl.col('Close')).shift().alias('CloseLag1'))\n",
    "xli = xli.with_columns((pl.col('CloseLag1')).shift().alias('CloseLag2'))\n",
    "xli = xli.with_columns(pl.when(pl.col('CloseLag1')>pl.col('CloseLag2')).then(pl.lit(1)).otherwise(pl.lit(0)).alias('XLIUp'))\n",
    "# check the schema\n",
    "print(xli.schema)\n",
    "                       \n",
    "# Drop initial lag row\n",
    "xli = xli.drop_nulls()\n",
    "\n",
    "xliStatistics = xli.describe()\n",
    "print(xliStatistics.columns)\n",
    "xliStatisticsToPrint = xliStatistics.transpose(include_header=True).drop(['column_1', 'column_5', 'column_6', 'column_7'])\n",
    "print(wtiStatisticsToPrint.schema)\n",
    "with pl.Config(\n",
    "    tbl_rows = 60,\n",
    "    tbl_width_chars = 200,\n",
    "    tbl_cols = -1,\n",
    "    float_precision = 3,\n",
    "    tbl_hide_dataframe_shape = True,\n",
    "    tbl_hide_column_data_types = True):\n",
    "    print(xliStatisticsToPrint)\n",
    "\n",
    "# print a few records at the beginning of the DataFrame\n",
    "print(xli.head())"
   ]
  },
  {
   "cell_type": "code",
   "execution_count": 12,
   "metadata": {},
   "outputs": [
    {
     "name": "stdout",
     "output_type": "stream",
     "text": [
      "Schema({'Date': Datetime(time_unit='us', time_zone='UTC'), 'Open': Float64, 'High': Float64, 'Low': Float64, 'Close': Float64, 'Volume': Int64, 'CloseLag1': Float64, 'CloseLag2': Float64, 'XLUUp': Int32})\n",
      "['statistic', 'Date', 'Open', 'High', 'Low', 'Close', 'Volume', 'CloseLag1', 'CloseLag2', 'XLUUp']\n",
      "Schema({'column': String, 'column_0': String, 'column_2': String, 'column_3': String, 'column_4': String, 'column_6': String, 'column_8': String})\n",
      "┌───────────┬──────────┬─────────────────────────────────┬─────────────────────┬───────────────────────────┬───────────────────────────┐\n",
      "│ column    ┆ column_0 ┆ column_2                        ┆ column_3            ┆ column_4                  ┆ column_8                  │\n",
      "╞═══════════╪══════════╪═════════════════════════════════╪═════════════════════╪═══════════════════════════╪═══════════════════════════╡\n",
      "│ statistic ┆ count    ┆ mean                            ┆ std                 ┆ min                       ┆ max                       │\n",
      "│ Date      ┆ 6444     ┆ 2012-10-26 16:36:45.027933+00:… ┆ null                ┆ 2000-01-05 05:00:00+00:00 ┆ 2025-08-19 04:00:00+00:00 │\n",
      "│ Open      ┆ 6444.0   ┆ 31.894989147350113              ┆ 19.721009673760992  ┆ 6.889745684259615         ┆ 87.3499984741211          │\n",
      "│ High      ┆ 6444.0   ┆ 32.123881544096875              ┆ 19.861535759212497  ┆ 7.41416278528114          ┆ 87.66999816894531         │\n",
      "│ Low       ┆ 6444.0   ┆ 31.650661453103062              ┆ 19.573122239135174  ┆ 6.736037375918337         ┆ 86.12999725341797         │\n",
      "│ Close     ┆ 6444.0   ┆ 31.89608001967974               ┆ 19.7271434580805    ┆ 6.885226726531982         ┆ 87.31999969482422         │\n",
      "│ Volume    ┆ 6444.0   ┆ 8837735.055865921               ┆ 7372839.575100792   ┆ 3200.0                    ┆ 90263100.0                │\n",
      "│ CloseLag1 ┆ 6444.0   ┆ 31.88441676186302               ┆ 19.717318739292757  ┆ 6.885226726531982         ┆ 87.31999969482422         │\n",
      "│ CloseLag2 ┆ 6444.0   ┆ 31.8729350237577                ┆ 19.707778243189146  ┆ 6.885226726531982         ┆ 87.31999969482422         │\n",
      "│ XLUUp     ┆ 6444.0   ┆ 0.5335195530726257              ┆ 0.49891388733682634 ┆ 0.0                       ┆ 1.0                       │\n",
      "└───────────┴──────────┴─────────────────────────────────┴─────────────────────┴───────────────────────────┴───────────────────────────┘\n",
      "shape: (5, 9)\n",
      "┌──────────────┬───────────┬───────────┬───────────┬───┬────────┬───────────┬───────────┬───────┐\n",
      "│ Date         ┆ Open      ┆ High      ┆ Low       ┆ … ┆ Volume ┆ CloseLag1 ┆ CloseLag2 ┆ XLUUp │\n",
      "│ ---          ┆ ---       ┆ ---       ┆ ---       ┆   ┆ ---    ┆ ---       ┆ ---       ┆ ---   │\n",
      "│ datetime[μs, ┆ f64       ┆ f64       ┆ f64       ┆   ┆ i64    ┆ f64       ┆ f64       ┆ i32   │\n",
      "│ UTC]         ┆           ┆           ┆           ┆   ┆        ┆           ┆           ┆       │\n",
      "╞══════════════╪═══════════╪═══════════╪═══════════╪═══╪════════╪═══════════╪═══════════╪═══════╡\n",
      "│ 2000-01-05   ┆ 11.165537 ┆ 11.248862 ┆ 11.018116 ┆ … ┆ 273400 ┆ 10.921968 ┆ 11.26168  ┆ 0     │\n",
      "│ 05:00:00 UTC ┆           ┆           ┆           ┆   ┆        ┆           ┆           ┆       │\n",
      "│ 2000-01-06   ┆ 11.178358 ┆ 11.178358 ┆ 11.050166 ┆ … ┆ 34500  ┆ 11.197585 ┆ 10.921968 ┆ 1     │\n",
      "│ 05:00:00 UTC ┆           ┆           ┆           ┆   ┆        ┆           ┆           ┆       │\n",
      "│ 2000-01-07   ┆ 11.197586 ┆ 11.274501 ┆ 11.146309 ┆ … ┆ 46200  ┆ 11.178358 ┆ 11.197585 ┆ 0     │\n",
      "│ 05:00:00 UTC ┆           ┆           ┆           ┆   ┆        ┆           ┆           ┆       │\n",
      "│ 2000-01-10   ┆ 11.268088 ┆ 11.345003 ┆ 11.248859 ┆ … ┆ 15500  ┆ 11.274501 ┆ 11.178358 ┆ 1     │\n",
      "│ 05:00:00 UTC ┆           ┆           ┆           ┆   ┆        ┆           ┆           ┆       │\n",
      "│ 2000-01-11   ┆ 11.261679 ┆ 11.261679 ┆ 11.107849 ┆ … ┆ 25700  ┆ 11.312955 ┆ 11.274501 ┆ 1     │\n",
      "│ 05:00:00 UTC ┆           ┆           ┆           ┆   ┆        ┆           ┆           ┆       │\n",
      "└──────────────┴───────────┴───────────┴───────────┴───┴────────┴───────────┴───────────┴───────┘\n"
     ]
    }
   ],
   "source": [
    "# work with XLU data\n",
    "xlu = pl.read_csv(\"../data/xlu_daily_data.csv\", try_parse_dates=True)\n",
    "\n",
    "# drop useless columns Dividends, StockSplits, and CapitalGains\n",
    "xlu = xlu.drop(['Dividends', 'StockSplits', 'CapitalGains'])\n",
    "\n",
    "xlu = xlu.with_columns((pl.col('Close')).shift().alias('CloseLag1'))\n",
    "xlu = xlu.with_columns((pl.col('CloseLag1')).shift().alias('CloseLag2'))\n",
    "xlu = xlu.with_columns(pl.when(pl.col('CloseLag1')>pl.col('CloseLag2')).then(pl.lit(1)).otherwise(pl.lit(0)).alias('XLUUp'))\n",
    "# check the schema\n",
    "print(xlu.schema)\n",
    "                       \n",
    "# Drop initial lag row\n",
    "xlu = xlu.drop_nulls()\n",
    "\n",
    "xluStatistics = xlu.describe()\n",
    "print(xluStatistics.columns)\n",
    "xluStatisticsToPrint = xluStatistics.transpose(include_header=True).drop(['column_1', 'column_5', 'column_6', 'column_7'])\n",
    "print(wtiStatisticsToPrint.schema)\n",
    "with pl.Config(\n",
    "    tbl_rows = 60,\n",
    "    tbl_width_chars = 200,\n",
    "    tbl_cols = -1,\n",
    "    float_precision = 3,\n",
    "    tbl_hide_dataframe_shape = True,\n",
    "    tbl_hide_column_data_types = True):\n",
    "    print(xluStatisticsToPrint)\n",
    "\n",
    "# print a few records at the beginning of the DataFrame\n",
    "print(xlu.head())"
   ]
  },
  {
   "cell_type": "code",
   "execution_count": 13,
   "metadata": {},
   "outputs": [
    {
     "name": "stdout",
     "output_type": "stream",
     "text": [
      "Schema({'Date': Datetime(time_unit='us', time_zone='UTC'), 'Open': Float64, 'High': Float64, 'Low': Float64, 'Close': Float64, 'Volume': Int64, 'CloseLag1': Float64, 'CloseLag2': Float64, 'SLVUp': Int32})\n",
      "['statistic', 'Date', 'Open', 'High', 'Low', 'Close', 'Volume', 'CloseLag1', 'CloseLag2', 'SLVUp']\n",
      "Schema({'column': String, 'column_0': String, 'column_2': String, 'column_3': String, 'column_4': String, 'column_6': String, 'column_8': String})\n",
      "┌───────────┬──────────┬─────────────────────────────────┬────────────────────┬───────────────────────────┬───────────────────────────┐\n",
      "│ column    ┆ column_0 ┆ column_2                        ┆ column_3           ┆ column_4                  ┆ column_8                  │\n",
      "╞═══════════╪══════════╪═════════════════════════════════╪════════════════════╪═══════════════════════════╪═══════════════════════════╡\n",
      "│ statistic ┆ count    ┆ mean                            ┆ std                ┆ min                       ┆ max                       │\n",
      "│ Date      ┆ 4856     ┆ 2015-12-23 02:12:58.418451+00:… ┆ null               ┆ 2006-05-02 04:00:00+00:00 ┆ 2025-08-19 04:00:00+00:00 │\n",
      "│ Open      ┆ 4856.0   ┆ 19.84649361829585               ┆ 6.487981729697927  ┆ 8.710000038146973         ┆ 47.619998931884766        │\n",
      "│ High      ┆ 4856.0   ┆ 20.0214888811897                ┆ 6.55865103290389   ┆ 9.050000190734863         ┆ 48.349998474121094        │\n",
      "│ Low       ┆ 4856.0   ┆ 19.649800242859214              ┆ 6.395723154542012  ┆ 8.449999809265137         ┆ 46.54999923706055         │\n",
      "│ Close     ┆ 4856.0   ┆ 19.840868817129873              ┆ 6.487317455039558  ┆ 8.850000381469727         ┆ 47.2599983215332          │\n",
      "│ Volume    ┆ 4856.0   ┆ 15420806.878088962              ┆ 16683460.219457056 ┆ 1039000.0                 ┆ 295400000.0               │\n",
      "│ CloseLag1 ┆ 4856.0   ┆ 19.83675020118129               ┆ 6.484757133225693  ┆ 8.850000381469727         ┆ 47.2599983215332          │\n",
      "│ CloseLag2 ┆ 4856.0   ┆ 19.832479608314237              ┆ 6.481893562087745  ┆ 8.850000381469727         ┆ 47.2599983215332          │\n",
      "│ SLVUp     ┆ 4856.0   ┆ 0.5168863261943987              ┆ 0.4997662319131529 ┆ 0.0                       ┆ 1.0                       │\n",
      "└───────────┴──────────┴─────────────────────────────────┴────────────────────┴───────────────────────────┴───────────────────────────┘\n",
      "shape: (5, 9)\n",
      "┌─────────────────────┬────────┬────────┬────────┬───┬──────────┬───────────┬───────────┬───────┐\n",
      "│ Date                ┆ Open   ┆ High   ┆ Low    ┆ … ┆ Volume   ┆ CloseLag1 ┆ CloseLag2 ┆ SLVUp │\n",
      "│ ---                 ┆ ---    ┆ ---    ┆ ---    ┆   ┆ ---      ┆ ---       ┆ ---       ┆ ---   │\n",
      "│ datetime[μs, UTC]   ┆ f64    ┆ f64    ┆ f64    ┆   ┆ i64      ┆ f64       ┆ f64       ┆ i32   │\n",
      "╞═════════════════════╪════════╪════════╪════════╪═══╪══════════╪═══════════╪═══════════╪═══════╡\n",
      "│ 2006-05-02 04:00:00 ┆ 14.245 ┆ 14.4   ┆ 14.1   ┆ … ┆ 12511000 ┆ 13.87     ┆ 13.812    ┆ 1     │\n",
      "│ UTC                 ┆        ┆        ┆        ┆   ┆          ┆           ┆           ┆       │\n",
      "│ 2006-05-03 04:00:00 ┆ 14.45  ┆ 14.464 ┆ 13.413 ┆ … ┆ 15141000 ┆ 14.365    ┆ 13.87     ┆ 1     │\n",
      "│ UTC                 ┆        ┆        ┆        ┆   ┆          ┆           ┆           ┆       │\n",
      "│ 2006-05-04 04:00:00 ┆ 13.95  ┆ 14.287 ┆ 13.68  ┆ … ┆ 11075000 ┆ 13.925    ┆ 14.365    ┆ 0     │\n",
      "│ UTC                 ┆        ┆        ┆        ┆   ┆          ┆           ┆           ┆       │\n",
      "│ 2006-05-05 04:00:00 ┆ 14.0   ┆ 14.03  ┆ 13.75  ┆ … ┆ 6586000  ┆ 14.0      ┆ 13.925    ┆ 1     │\n",
      "│ UTC                 ┆        ┆        ┆        ┆   ┆          ┆           ┆           ┆       │\n",
      "│ 2006-05-08 04:00:00 ┆ 13.8   ┆ 14.0   ┆ 13.506 ┆ … ┆ 9453000  ┆ 13.995    ┆ 14.0      ┆ 0     │\n",
      "│ UTC                 ┆        ┆        ┆        ┆   ┆          ┆           ┆           ┆       │\n",
      "└─────────────────────┴────────┴────────┴────────┴───┴──────────┴───────────┴───────────┴───────┘\n"
     ]
    }
   ],
   "source": [
    "# work with SLV data\n",
    "slv = pl.read_csv(\"../data/slv_daily_data.csv\", try_parse_dates=True)\n",
    "\n",
    "# drop useless columns Dividends, StockSplits, and CapitalGains\n",
    "slv = slv.drop(['Dividends', 'StockSplits', 'CapitalGains'])\n",
    "\n",
    "slv = slv.with_columns((pl.col('Close')).shift().alias('CloseLag1'))\n",
    "slv = slv.with_columns((pl.col('CloseLag1')).shift().alias('CloseLag2'))\n",
    "slv = slv.with_columns(pl.when(pl.col('CloseLag1')>pl.col('CloseLag2')).then(pl.lit(1)).otherwise(pl.lit(0)).alias('SLVUp'))\n",
    "# check the schema\n",
    "print(slv.schema)\n",
    "                       \n",
    "# Drop initial lag row\n",
    "slv = slv.drop_nulls()\n",
    "\n",
    "slvStatistics = slv.describe()\n",
    "print(slvStatistics.columns)\n",
    "slvStatisticsToPrint = slvStatistics.transpose(include_header=True).drop(['column_1', 'column_5', 'column_6', 'column_7'])\n",
    "print(wtiStatisticsToPrint.schema)\n",
    "with pl.Config(\n",
    "    tbl_rows = 60,\n",
    "    tbl_width_chars = 200,\n",
    "    tbl_cols = -1,\n",
    "    float_precision = 3,\n",
    "    tbl_hide_dataframe_shape = True,\n",
    "    tbl_hide_column_data_types = True):\n",
    "    print(slvStatisticsToPrint)\n",
    "\n",
    "# print a few records at the beginning of the DataFrame\n",
    "print(slv.head())"
   ]
  },
  {
   "cell_type": "code",
   "execution_count": 14,
   "metadata": {},
   "outputs": [
    {
     "name": "stdout",
     "output_type": "stream",
     "text": [
      "Schema({'Date': Datetime(time_unit='us', time_zone='UTC'), 'Open': Float64, 'High': Float64, 'Low': Float64, 'Close': Float64, 'Volume': Int64, 'CloseLag1': Float64, 'CloseLag2': Float64, 'USOUp': Int32})\n",
      "['statistic', 'Date', 'Open', 'High', 'Low', 'Close', 'Volume', 'CloseLag1', 'CloseLag2', 'USOUp']\n",
      "Schema({'column': String, 'column_0': String, 'column_2': String, 'column_3': String, 'column_4': String, 'column_6': String, 'column_8': String})\n",
      "┌───────────┬──────────┬─────────────────────────────────┬─────────────────────┬───────────────────────────┬───────────────────────────┐\n",
      "│ column    ┆ column_0 ┆ column_2                        ┆ column_3            ┆ column_4                  ┆ column_8                  │\n",
      "╞═══════════╪══════════╪═════════════════════════════════╪═════════════════════╪═══════════════════════════╪═══════════════════════════╡\n",
      "│ statistic ┆ count    ┆ mean                            ┆ std                 ┆ min                       ┆ max                       │\n",
      "│ Date      ┆ 4869     ┆ 2015-12-13 15:52:11.238447+00:… ┆ null                ┆ 2006-04-12 04:00:00+00:00 ┆ 2025-08-19 04:00:00+00:00 │\n",
      "│ Open      ┆ 4869.0   ┆ 207.56218537914114              ┆ 172.12513325570848  ┆ 17.280000686645508        ┆ 952.6400146484375         │\n",
      "│ High      ┆ 4869.0   ┆ 209.87204556632614              ┆ 174.16241714493188  ┆ 18.0                      ┆ 953.3599853515625         │\n",
      "│ Low       ┆ 4869.0   ┆ 205.02635254098982              ┆ 169.7785603051359   ┆ 16.8799991607666          ┆ 932.0                     │\n",
      "│ Close     ┆ 4869.0   ┆ 207.54419582231404              ┆ 172.08918039384076  ┆ 17.040000915527344        ┆ 939.8400268554688         │\n",
      "│ Volume    ┆ 4869.0   ┆ 3012812.4988704044              ┆ 4036484.7365261046  ┆ 14888.0                   ┆ 124913013.0               │\n",
      "│ CloseLag1 ┆ 4869.0   ┆ 207.64140263532167              ┆ 172.14643555816238  ┆ 17.040000915527344        ┆ 939.8400268554688         │\n",
      "│ CloseLag2 ┆ 4869.0   ┆ 207.73813501876296              ┆ 172.20317777305166  ┆ 17.040000915527344        ┆ 939.8400268554688         │\n",
      "│ USOUp     ┆ 4869.0   ┆ 0.5103717395769152              ┆ 0.49994375754988574 ┆ 0.0                       ┆ 1.0                       │\n",
      "└───────────┴──────────┴─────────────────────────────────┴─────────────────────┴───────────────────────────┴───────────────────────────┘\n",
      "shape: (5, 9)\n",
      "┌────────────┬────────────┬────────────┬────────────┬───┬────────┬────────────┬────────────┬───────┐\n",
      "│ Date       ┆ Open       ┆ High       ┆ Low        ┆ … ┆ Volume ┆ CloseLag1  ┆ CloseLag2  ┆ USOUp │\n",
      "│ ---        ┆ ---        ┆ ---        ┆ ---        ┆   ┆ ---    ┆ ---        ┆ ---        ┆ ---   │\n",
      "│ datetime[μ ┆ f64        ┆ f64        ┆ f64        ┆   ┆ i64    ┆ f64        ┆ f64        ┆ i32   │\n",
      "│ s, UTC]    ┆            ┆            ┆            ┆   ┆        ┆            ┆            ┆       │\n",
      "╞════════════╪════════════╪════════════╪════════════╪═══╪════════╪════════════╪════════════╪═══════╡\n",
      "│ 2006-04-12 ┆ 545.76001  ┆ 550.47998  ┆ 542.47998  ┆ … ┆ 156038 ┆ 545.599976 ┆ 544.159973 ┆ 1     │\n",
      "│ 04:00:00   ┆            ┆            ┆            ┆   ┆        ┆            ┆            ┆       │\n",
      "│ UTC        ┆            ┆            ┆            ┆   ┆        ┆            ┆            ┆       │\n",
      "│ 2006-04-13 ┆ 540.0      ┆ 551.919983 ┆ 539.200012 ┆ … ┆ 70088  ┆ 542.719971 ┆ 545.599976 ┆ 0     │\n",
      "│ 04:00:00   ┆            ┆            ┆            ┆   ┆        ┆            ┆            ┆       │\n",
      "│ UTC        ┆            ┆            ┆            ┆   ┆        ┆            ┆            ┆       │\n",
      "│ 2006-04-17 ┆ 553.599976 ┆ 559.200012 ┆ 549.440002 ┆ … ┆ 114713 ┆ 550.559998 ┆ 542.719971 ┆ 1     │\n",
      "│ 04:00:00   ┆            ┆            ┆            ┆   ┆        ┆            ┆            ┆       │\n",
      "│ UTC        ┆            ┆            ┆            ┆   ┆        ┆            ┆            ┆       │\n",
      "│ 2006-04-18 ┆ 560.799988 ┆ 568.400024 ┆ 556.559998 ┆ … ┆ 115338 ┆ 558.320007 ┆ 550.559998 ┆ 1     │\n",
      "│ 04:00:00   ┆            ┆            ┆            ┆   ┆        ┆            ┆            ┆       │\n",
      "│ UTC        ┆            ┆            ┆            ┆   ┆        ┆            ┆            ┆       │\n",
      "│ 2006-04-19 ┆ 564.640015 ┆ 577.280029 ┆ 563.919983 ┆ … ┆ 98725  ┆ 566.0      ┆ 558.320007 ┆ 1     │\n",
      "│ 04:00:00   ┆            ┆            ┆            ┆   ┆        ┆            ┆            ┆       │\n",
      "│ UTC        ┆            ┆            ┆            ┆   ┆        ┆            ┆            ┆       │\n",
      "└────────────┴────────────┴────────────┴────────────┴───┴────────┴────────────┴────────────┴───────┘\n"
     ]
    }
   ],
   "source": [
    "# work with USO data\n",
    "uso = pl.read_csv(\"../data/uso_daily_data.csv\", try_parse_dates=True)\n",
    "\n",
    "# drop useless columns Dividends, StockSplits, and CapitalGains\n",
    "uso = uso.drop(['Dividends', 'StockSplits', 'CapitalGains'])\n",
    "\n",
    "uso = uso.with_columns((pl.col('Close')).shift().alias('CloseLag1'))\n",
    "uso = uso.with_columns((pl.col('CloseLag1')).shift().alias('CloseLag2'))\n",
    "uso = uso.with_columns(pl.when(pl.col('CloseLag1')>pl.col('CloseLag2')).then(pl.lit(1)).otherwise(pl.lit(0)).alias('USOUp'))\n",
    "# check the schema\n",
    "print(uso.schema)\n",
    "                       \n",
    "# Drop initial lag row\n",
    "uso = uso.drop_nulls()\n",
    "\n",
    "usoStatistics = uso.describe()\n",
    "print(usoStatistics.columns)\n",
    "usoStatisticsToPrint = usoStatistics.transpose(include_header=True).drop(['column_1', 'column_5', 'column_6', 'column_7'])\n",
    "print(wtiStatisticsToPrint.schema)\n",
    "with pl.Config(\n",
    "    tbl_rows = 60,\n",
    "    tbl_width_chars = 200,\n",
    "    tbl_cols = -1,\n",
    "    float_precision = 3,\n",
    "    tbl_hide_dataframe_shape = True,\n",
    "    tbl_hide_column_data_types = True):\n",
    "    print(usoStatisticsToPrint)\n",
    "\n",
    "# print a few records at the beginning of the DataFrame\n",
    "print(uso.head())"
   ]
  },
  {
   "cell_type": "code",
   "execution_count": 15,
   "metadata": {},
   "outputs": [
    {
     "name": "stdout",
     "output_type": "stream",
     "text": [
      "minimum Date on which to select, minDateAll: 2006-05-02 04:00:00+00:00\n"
     ]
    }
   ],
   "source": [
    "# Find earliest date that can be used across all DataFrames\n",
    "minDateAll = max(min(wti['Date']),min(spy['Date']),min(gld['Date']),\n",
    "                 min(vgt['Date']),min(vb['Date']),min(ive['Date']),\n",
    "                 min(xli['Date']),min(xlu['Date']),min(slv['Date']),min(uso['Date']))    \n",
    "\n",
    "print(\"minimum Date on which to select, minDateAll:\", minDateAll)"
   ]
  },
  {
   "cell_type": "code",
   "execution_count": 16,
   "metadata": {},
   "outputs": [
    {
     "name": "stdout",
     "output_type": "stream",
     "text": [
      "maximum Date on which to select, axDateAll: 2025-08-19 04:00:00+00:00\n"
     ]
    }
   ],
   "source": [
    "# find latest date across all DataFrames\n",
    "\n",
    "maxDateAll = min(max(wti['Date']),max(spy['Date']),max(gld['Date']),\n",
    "                 max(vgt['Date']),max(vb['Date']),max(ive['Date']),\n",
    "                 max(xli['Date']),max(xlu['Date']),max(slv['Date']),max(uso['Date']))    \n",
    "\n",
    "print(\"maximum Date on which to select, axDateAll:\", maxDateAll)\n"
   ]
  },
  {
   "cell_type": "code",
   "execution_count": null,
   "metadata": {},
   "outputs": [],
   "source": []
  },
  {
   "cell_type": "code",
   "execution_count": 17,
   "metadata": {},
   "outputs": [
    {
     "name": "stdout",
     "output_type": "stream",
     "text": [
      "Beginning of wti training set\n",
      "shape: (5, 17)\n",
      "┌─────────────┬───────────┬───────────┬───────────┬───┬───────────┬───────────┬───────────┬────────┐\n",
      "│ Date        ┆ CloseLag1 ┆ CloseLag2 ┆ CloseLag3 ┆ … ┆ CloseEMA2 ┆ CloseEMA4 ┆ CloseEMA8 ┆ Target │\n",
      "│ ---         ┆ ---       ┆ ---       ┆ ---       ┆   ┆ ---       ┆ ---       ┆ ---       ┆ ---    │\n",
      "│ datetime[μs ┆ f64       ┆ f64       ┆ f64       ┆   ┆ f64       ┆ f64       ┆ f64       ┆ i32    │\n",
      "│ , UTC]      ┆           ┆           ┆           ┆   ┆           ┆           ┆           ┆        │\n",
      "╞═════════════╪═══════════╪═══════════╪═══════════╪═══╪═══════════╪═══════════╪═══════════╪════════╡\n",
      "│ 2006-05-02  ┆ 32.19     ┆ 31.062    ┆ 30.669    ┆ … ┆ 31.649    ┆ 31.684    ┆ 31.697    ┆ 1      │\n",
      "│ 04:00:00    ┆           ┆           ┆           ┆   ┆           ┆           ┆           ┆        │\n",
      "│ UTC         ┆           ┆           ┆           ┆   ┆           ┆           ┆           ┆        │\n",
      "│ 2006-05-03  ┆ 33.471    ┆ 32.19     ┆ 31.062    ┆ … ┆ 32.56     ┆ 32.208    ┆ 31.979    ┆ 0      │\n",
      "│ 04:00:00    ┆           ┆           ┆           ┆   ┆           ┆           ┆           ┆        │\n",
      "│ UTC         ┆           ┆           ┆           ┆   ┆           ┆           ┆           ┆        │\n",
      "│ 2006-05-04  ┆ 33.158    ┆ 33.471    ┆ 32.19     ┆ … ┆ 32.859    ┆ 32.486    ┆ 32.167    ┆ 1      │\n",
      "│ 04:00:00    ┆           ┆           ┆           ┆   ┆           ┆           ┆           ┆        │\n",
      "│ UTC         ┆           ┆           ┆           ┆   ┆           ┆           ┆           ┆        │\n",
      "│ 2006-05-05  ┆ 35.013    ┆ 33.158    ┆ 33.471    ┆ … ┆ 33.936    ┆ 33.226    ┆ 32.62     ┆ 0      │\n",
      "│ 04:00:00    ┆           ┆           ┆           ┆   ┆           ┆           ┆           ┆        │\n",
      "│ UTC         ┆           ┆           ┆           ┆   ┆           ┆           ┆           ┆        │\n",
      "│ 2006-05-08  ┆ 33.645    ┆ 35.013    ┆ 33.158    ┆ … ┆ 33.791    ┆ 33.349    ┆ 32.783    ┆ 0      │\n",
      "│ 04:00:00    ┆           ┆           ┆           ┆   ┆           ┆           ┆           ┆        │\n",
      "│ UTC         ┆           ┆           ┆           ┆   ┆           ┆           ┆           ┆        │\n",
      "└─────────────┴───────────┴───────────┴───────────┴───┴───────────┴───────────┴───────────┴────────┘\n",
      "End of wti training set\n",
      "shape: (5, 17)\n",
      "┌─────────────┬───────────┬───────────┬───────────┬───┬───────────┬───────────┬───────────┬────────┐\n",
      "│ Date        ┆ CloseLag1 ┆ CloseLag2 ┆ CloseLag3 ┆ … ┆ CloseEMA2 ┆ CloseEMA4 ┆ CloseEMA8 ┆ Target │\n",
      "│ ---         ┆ ---       ┆ ---       ┆ ---       ┆   ┆ ---       ┆ ---       ┆ ---       ┆ ---    │\n",
      "│ datetime[μs ┆ f64       ┆ f64       ┆ f64       ┆   ┆ f64       ┆ f64       ┆ f64       ┆ i32    │\n",
      "│ , UTC]      ┆           ┆           ┆           ┆   ┆           ┆           ┆           ┆        │\n",
      "╞═════════════╪═══════════╪═══════════╪═══════════╪═══╪═══════════╪═══════════╪═══════════╪════════╡\n",
      "│ 2024-12-23  ┆ 1.413     ┆ 1.344     ┆ 1.442     ┆ … ┆ 1.42      ┆ 1.483     ┆ 1.585     ┆ 1      │\n",
      "│ 05:00:00    ┆           ┆           ┆           ┆   ┆           ┆           ┆           ┆        │\n",
      "│ UTC         ┆           ┆           ┆           ┆   ┆           ┆           ┆           ┆        │\n",
      "│ 2024-12-24  ┆ 1.481     ┆ 1.413     ┆ 1.344     ┆ … ┆ 1.451     ┆ 1.482     ┆ 1.569     ┆ 1      │\n",
      "│ 05:00:00    ┆           ┆           ┆           ┆   ┆           ┆           ┆           ┆        │\n",
      "│ UTC         ┆           ┆           ┆           ┆   ┆           ┆           ┆           ┆        │\n",
      "│ 2024-12-26  ┆ 1.501     ┆ 1.481     ┆ 1.413     ┆ … ┆ 1.476     ┆ 1.488     ┆ 1.558     ┆ 1      │\n",
      "│ 05:00:00    ┆           ┆           ┆           ┆   ┆           ┆           ┆           ┆        │\n",
      "│ UTC         ┆           ┆           ┆           ┆   ┆           ┆           ┆           ┆        │\n",
      "│ 2024-12-27  ┆ 1.54      ┆ 1.501     ┆ 1.481     ┆ … ┆ 1.508     ┆ 1.503     ┆ 1.555     ┆ 1      │\n",
      "│ 05:00:00    ┆           ┆           ┆           ┆   ┆           ┆           ┆           ┆        │\n",
      "│ UTC         ┆           ┆           ┆           ┆   ┆           ┆           ┆           ┆        │\n",
      "│ 2024-12-30  ┆ 1.579     ┆ 1.54      ┆ 1.501     ┆ … ┆ 1.544     ┆ 1.525     ┆ 1.559     ┆ 1      │\n",
      "│ 05:00:00    ┆           ┆           ┆           ┆   ┆           ┆           ┆           ┆        │\n",
      "│ UTC         ┆           ┆           ┆           ┆   ┆           ┆           ┆           ┆        │\n",
      "└─────────────┴───────────┴───────────┴───────────┴───┴───────────┴───────────┴───────────┴────────┘\n",
      "Beginning of wti test set\n",
      "shape: (5, 17)\n",
      "┌─────────────┬───────────┬───────────┬───────────┬───┬───────────┬───────────┬───────────┬────────┐\n",
      "│ Date        ┆ CloseLag1 ┆ CloseLag2 ┆ CloseLag3 ┆ … ┆ CloseEMA2 ┆ CloseEMA4 ┆ CloseEMA8 ┆ Target │\n",
      "│ ---         ┆ ---       ┆ ---       ┆ ---       ┆   ┆ ---       ┆ ---       ┆ ---       ┆ ---    │\n",
      "│ datetime[μs ┆ f64       ┆ f64       ┆ f64       ┆   ┆ f64       ┆ f64       ┆ f64       ┆ i32    │\n",
      "│ , UTC]      ┆           ┆           ┆           ┆   ┆           ┆           ┆           ┆        │\n",
      "╞═════════════╪═══════════╪═══════════╪═══════════╪═══╪═══════════╪═══════════╪═══════════╪════════╡\n",
      "│ 2025-01-02  ┆ 1.628     ┆ 1.638     ┆ 1.579     ┆ … ┆ 1.61      ┆ 1.579     ┆ 1.581     ┆ 1      │\n",
      "│ 05:00:00    ┆           ┆           ┆           ┆   ┆           ┆           ┆           ┆        │\n",
      "│ UTC         ┆           ┆           ┆           ┆   ┆           ┆           ┆           ┆        │\n",
      "│ 2025-01-03  ┆ 1.746     ┆ 1.628     ┆ 1.638     ┆ … ┆ 1.678     ┆ 1.628     ┆ 1.607     ┆ 0      │\n",
      "│ 05:00:00    ┆           ┆           ┆           ┆   ┆           ┆           ┆           ┆        │\n",
      "│ UTC         ┆           ┆           ┆           ┆   ┆           ┆           ┆           ┆        │\n",
      "│ 2025-01-06  ┆ 1.727     ┆ 1.746     ┆ 1.628     ┆ … ┆ 1.702     ┆ 1.657     ┆ 1.626     ┆ 0      │\n",
      "│ 05:00:00    ┆           ┆           ┆           ┆   ┆           ┆           ┆           ┆        │\n",
      "│ UTC         ┆           ┆           ┆           ┆   ┆           ┆           ┆           ┆        │\n",
      "│ 2025-01-07  ┆ 1.619     ┆ 1.727     ┆ 1.746     ┆ … ┆ 1.66      ┆ 1.646     ┆ 1.625     ┆ 0      │\n",
      "│ 05:00:00    ┆           ┆           ┆           ┆   ┆           ┆           ┆           ┆        │\n",
      "│ UTC         ┆           ┆           ┆           ┆   ┆           ┆           ┆           ┆        │\n",
      "│ 2025-01-08  ┆ 1.599     ┆ 1.619     ┆ 1.727     ┆ … ┆ 1.63      ┆ 1.632     ┆ 1.621     ┆ 1      │\n",
      "│ 05:00:00    ┆           ┆           ┆           ┆   ┆           ┆           ┆           ┆        │\n",
      "│ UTC         ┆           ┆           ┆           ┆   ┆           ┆           ┆           ┆        │\n",
      "└─────────────┴───────────┴───────────┴───────────┴───┴───────────┴───────────┴───────────┴────────┘\n",
      "End of wti test set\n",
      "shape: (5, 17)\n",
      "┌─────────────┬───────────┬───────────┬───────────┬───┬───────────┬───────────┬───────────┬────────┐\n",
      "│ Date        ┆ CloseLag1 ┆ CloseLag2 ┆ CloseLag3 ┆ … ┆ CloseEMA2 ┆ CloseEMA4 ┆ CloseEMA8 ┆ Target │\n",
      "│ ---         ┆ ---       ┆ ---       ┆ ---       ┆   ┆ ---       ┆ ---       ┆ ---       ┆ ---    │\n",
      "│ datetime[μs ┆ f64       ┆ f64       ┆ f64       ┆   ┆ f64       ┆ f64       ┆ f64       ┆ i32    │\n",
      "│ , UTC]      ┆           ┆           ┆           ┆   ┆           ┆           ┆           ┆        │\n",
      "╞═════════════╪═══════════╪═══════════╪═══════════╪═══╪═══════════╪═══════════╪═══════════╪════════╡\n",
      "│ 2025-08-13  ┆ 1.74      ┆ 1.71      ┆ 1.72      ┆ … ┆ 1.729     ┆ 1.731     ┆ 1.737     ┆ 0      │\n",
      "│ 04:00:00    ┆           ┆           ┆           ┆   ┆           ┆           ┆           ┆        │\n",
      "│ UTC         ┆           ┆           ┆           ┆   ┆           ┆           ┆           ┆        │\n",
      "│ 2025-08-14  ┆ 1.74      ┆ 1.74      ┆ 1.71      ┆ … ┆ 1.734     ┆ 1.733     ┆ 1.737     ┆ 0      │\n",
      "│ 04:00:00    ┆           ┆           ┆           ┆   ┆           ┆           ┆           ┆        │\n",
      "│ UTC         ┆           ┆           ┆           ┆   ┆           ┆           ┆           ┆        │\n",
      "│ 2025-08-15  ┆ 1.74      ┆ 1.74      ┆ 1.74      ┆ … ┆ 1.737     ┆ 1.735     ┆ 1.737     ┆ 0      │\n",
      "│ 04:00:00    ┆           ┆           ┆           ┆   ┆           ┆           ┆           ┆        │\n",
      "│ UTC         ┆           ┆           ┆           ┆   ┆           ┆           ┆           ┆        │\n",
      "│ 2025-08-18  ┆ 1.71      ┆ 1.74      ┆ 1.74      ┆ … ┆ 1.724     ┆ 1.728     ┆ 1.733     ┆ 1      │\n",
      "│ 04:00:00    ┆           ┆           ┆           ┆   ┆           ┆           ┆           ┆        │\n",
      "│ UTC         ┆           ┆           ┆           ┆   ┆           ┆           ┆           ┆        │\n",
      "│ 2025-08-19  ┆ 1.74      ┆ 1.71      ┆ 1.74      ┆ … ┆ 1.732     ┆ 1.731     ┆ 1.734     ┆ 0      │\n",
      "│ 04:00:00    ┆           ┆           ┆           ┆   ┆           ┆           ┆           ┆        │\n",
      "│ UTC         ┆           ┆           ┆           ┆   ┆           ┆           ┆           ┆        │\n",
      "└─────────────┴───────────┴───────────┴───────────┴───┴───────────┴───────────┴───────────┴────────┘\n"
     ]
    }
   ],
   "source": [
    "\n",
    "# select training data from minDateAll to 2024-12-31, test data all dates in 2025\n",
    "beginTrain = minDateAll\n",
    "endTrain = datetime(2024, 12, 31, tzinfo=timezone.utc)\n",
    "beginTest = datetime(2025, 1, 1, tzinfo=timezone.utc)\n",
    "endTest = maxDateAll\n",
    "wtiTrain = wti.filter((pl.col('Date')>=beginTrain) & (pl.col('Date')<=endTrain))\n",
    "wtiTest = wti.filter((pl.col('Date')>=beginTest) & (pl.col('Date')<=endTest))\n",
    "\n",
    "print(\"Beginning of wti training set\")\n",
    "print(wtiTrain.head())\n",
    "print(\"End of wti training set\")\n",
    "print(wtiTrain.tail())\n",
    "print(\"Beginning of wti test set\")\n",
    "print(wtiTest.head())\n",
    "print(\"End of wti test set\")\n",
    "print(wtiTest.tail())\n",
    "                             "
   ]
  },
  {
   "cell_type": "markdown",
   "metadata": {},
   "source": [
    "### Define the WTI Target for Training and Test Sets\n",
    "Using the dates defined by looking across all ETFs and the WTI time series."
   ]
  },
  {
   "cell_type": "code",
   "execution_count": 18,
   "metadata": {},
   "outputs": [
    {
     "name": "stdout",
     "output_type": "stream",
     "text": [
      "shape: (2, 2)\n",
      "┌────────┬───────┐\n",
      "│ Target ┆ count │\n",
      "│ ---    ┆ ---   │\n",
      "│ i32    ┆ u32   │\n",
      "╞════════╪═══════╡\n",
      "│ 1      ┆ 2227  │\n",
      "│ 0      ┆ 2471  │\n",
      "└────────┴───────┘\n",
      "shape: (2, 2)\n",
      "┌────────┬───────┐\n",
      "│ Target ┆ count │\n",
      "│ ---    ┆ ---   │\n",
      "│ i32    ┆ u32   │\n",
      "╞════════╪═══════╡\n",
      "│ 0      ┆ 85    │\n",
      "│ 1      ┆ 72    │\n",
      "└────────┴───────┘\n"
     ]
    }
   ],
   "source": [
    "# Define and examine the target for classification model development\n",
    "print(wtiTrain['Target'].value_counts())\n",
    "yTrain = np.array(wtiTrain['Target'])\n",
    "\n",
    "print(wtiTest['Target'].value_counts())\n",
    "yTest = np.array(wtiTest['Target'])"
   ]
  },
  {
   "cell_type": "markdown",
   "metadata": {},
   "source": [
    "### Remove Target from WTI Data Sets\n",
    "The initial feature set will include price features from WTI. Having obtained the Target from both the training and test data for WTI, we remove it from the WTI feature set in both the training and test sets."
   ]
  },
  {
   "cell_type": "code",
   "execution_count": 19,
   "metadata": {},
   "outputs": [
    {
     "data": {
      "text/html": [
       "<div><style>\n",
       ".dataframe > thead > tr,\n",
       ".dataframe > tbody > tr {\n",
       "  text-align: right;\n",
       "  white-space: pre-wrap;\n",
       "}\n",
       "</style>\n",
       "<small>shape: (5, 16)</small><table border=\"1\" class=\"dataframe\"><thead><tr><th>Date</th><th>CloseLag1</th><th>CloseLag2</th><th>CloseLag3</th><th>HMLLag1</th><th>HMLLag2</th><th>HMLLag3</th><th>OMCLag1</th><th>OMCLag2</th><th>OMCLag3</th><th>VolumeLag1</th><th>VolumeLag2</th><th>VolumeLag3</th><th>CloseEMA2</th><th>CloseEMA4</th><th>CloseEMA8</th></tr><tr><td>datetime[μs, UTC]</td><td>f64</td><td>f64</td><td>f64</td><td>f64</td><td>f64</td><td>f64</td><td>f64</td><td>f64</td><td>f64</td><td>f64</td><td>f64</td><td>f64</td><td>f64</td><td>f64</td><td>f64</td></tr></thead><tbody><tr><td>2025-01-02 05:00:00 UTC</td><td>1.628</td><td>1.638</td><td>1.579</td><td>0.059</td><td>0.108</td><td>0.098</td><td>0.0</td><td>-0.029</td><td>-0.01</td><td>2.2437e6</td><td>3.6429e6</td><td>2.5184e6</td><td>1.61</td><td>1.579</td><td>1.581</td></tr><tr><td>2025-01-03 05:00:00 UTC</td><td>1.746</td><td>1.628</td><td>1.638</td><td>0.128</td><td>0.059</td><td>0.108</td><td>-0.078</td><td>0.0</td><td>-0.029</td><td>3.4821e6</td><td>2.2437e6</td><td>3.6429e6</td><td>1.678</td><td>1.628</td><td>1.607</td></tr><tr><td>2025-01-06 05:00:00 UTC</td><td>1.727</td><td>1.746</td><td>1.628</td><td>0.088</td><td>0.128</td><td>0.059</td><td>0.039</td><td>-0.078</td><td>0.0</td><td>1.4409e6</td><td>3.4821e6</td><td>2.2437e6</td><td>1.702</td><td>1.657</td><td>1.626</td></tr><tr><td>2025-01-07 05:00:00 UTC</td><td>1.619</td><td>1.727</td><td>1.746</td><td>0.167</td><td>0.088</td><td>0.128</td><td>0.128</td><td>0.039</td><td>-0.078</td><td>2.5746e6</td><td>1.4409e6</td><td>3.4821e6</td><td>1.66</td><td>1.646</td><td>1.625</td></tr><tr><td>2025-01-08 05:00:00 UTC</td><td>1.599</td><td>1.619</td><td>1.727</td><td>0.098</td><td>0.167</td><td>0.088</td><td>0.029</td><td>0.128</td><td>0.039</td><td>2.2995e6</td><td>2.5746e6</td><td>1.4409e6</td><td>1.63</td><td>1.632</td><td>1.621</td></tr></tbody></table></div>"
      ],
      "text/plain": [
       "shape: (5, 16)\n",
       "┌───────────┬───────────┬───────────┬───────────┬───┬───────────┬───────────┬───────────┬──────────┐\n",
       "│ Date      ┆ CloseLag1 ┆ CloseLag2 ┆ CloseLag3 ┆ … ┆ VolumeLag ┆ CloseEMA2 ┆ CloseEMA4 ┆ CloseEMA │\n",
       "│ ---       ┆ ---       ┆ ---       ┆ ---       ┆   ┆ 3         ┆ ---       ┆ ---       ┆ 8        │\n",
       "│ datetime[ ┆ f64       ┆ f64       ┆ f64       ┆   ┆ ---       ┆ f64       ┆ f64       ┆ ---      │\n",
       "│ μs, UTC]  ┆           ┆           ┆           ┆   ┆ f64       ┆           ┆           ┆ f64      │\n",
       "╞═══════════╪═══════════╪═══════════╪═══════════╪═══╪═══════════╪═══════════╪═══════════╪══════════╡\n",
       "│ 2025-01-0 ┆ 1.628     ┆ 1.638     ┆ 1.579     ┆ … ┆ 2.5184e6  ┆ 1.61      ┆ 1.579     ┆ 1.581    │\n",
       "│ 2         ┆           ┆           ┆           ┆   ┆           ┆           ┆           ┆          │\n",
       "│ 05:00:00  ┆           ┆           ┆           ┆   ┆           ┆           ┆           ┆          │\n",
       "│ UTC       ┆           ┆           ┆           ┆   ┆           ┆           ┆           ┆          │\n",
       "│ 2025-01-0 ┆ 1.746     ┆ 1.628     ┆ 1.638     ┆ … ┆ 3.6429e6  ┆ 1.678     ┆ 1.628     ┆ 1.607    │\n",
       "│ 3         ┆           ┆           ┆           ┆   ┆           ┆           ┆           ┆          │\n",
       "│ 05:00:00  ┆           ┆           ┆           ┆   ┆           ┆           ┆           ┆          │\n",
       "│ UTC       ┆           ┆           ┆           ┆   ┆           ┆           ┆           ┆          │\n",
       "│ 2025-01-0 ┆ 1.727     ┆ 1.746     ┆ 1.628     ┆ … ┆ 2.2437e6  ┆ 1.702     ┆ 1.657     ┆ 1.626    │\n",
       "│ 6         ┆           ┆           ┆           ┆   ┆           ┆           ┆           ┆          │\n",
       "│ 05:00:00  ┆           ┆           ┆           ┆   ┆           ┆           ┆           ┆          │\n",
       "│ UTC       ┆           ┆           ┆           ┆   ┆           ┆           ┆           ┆          │\n",
       "│ 2025-01-0 ┆ 1.619     ┆ 1.727     ┆ 1.746     ┆ … ┆ 3.4821e6  ┆ 1.66      ┆ 1.646     ┆ 1.625    │\n",
       "│ 7         ┆           ┆           ┆           ┆   ┆           ┆           ┆           ┆          │\n",
       "│ 05:00:00  ┆           ┆           ┆           ┆   ┆           ┆           ┆           ┆          │\n",
       "│ UTC       ┆           ┆           ┆           ┆   ┆           ┆           ┆           ┆          │\n",
       "│ 2025-01-0 ┆ 1.599     ┆ 1.619     ┆ 1.727     ┆ … ┆ 1.4409e6  ┆ 1.63      ┆ 1.632     ┆ 1.621    │\n",
       "│ 8         ┆           ┆           ┆           ┆   ┆           ┆           ┆           ┆          │\n",
       "│ 05:00:00  ┆           ┆           ┆           ┆   ┆           ┆           ┆           ┆          │\n",
       "│ UTC       ┆           ┆           ┆           ┆   ┆           ┆           ┆           ┆          │\n",
       "└───────────┴───────────┴───────────┴───────────┴───┴───────────┴───────────┴───────────┴──────────┘"
      ]
     },
     "execution_count": 19,
     "metadata": {},
     "output_type": "execute_result"
    }
   ],
   "source": [
    "# Having extracted the Target from the WTI training and test sets, we can delete it from the set of features\n",
    "XTrain = wtiTrain.drop(['Target'])\n",
    "XTrain.head()\n",
    "\n",
    "XTest = wtiTest.drop(['Target'])\n",
    "XTest.head()"
   ]
  },
  {
   "cell_type": "code",
   "execution_count": 20,
   "metadata": {},
   "outputs": [],
   "source": [
    "# filter by date for all the ETF DataFrames, defining training and test sets\n",
    "\n",
    "spyTrain = spy.filter((pl.col('Date')>=beginTrain) & (pl.col('Date')<=endTrain))\n",
    "spyTest = spy.filter((pl.col('Date')>=beginTest) & (pl.col('Date')<=endTest))\n",
    "\n",
    "gldTrain = gld.filter((pl.col('Date')>=beginTrain) & (pl.col('Date')<=endTrain))\n",
    "gldTest = gld.filter((pl.col('Date')>=beginTest) & (pl.col('Date')<=endTest))\n",
    "\n",
    "vgtTrain = vgt.filter((pl.col('Date')>=beginTrain) & (pl.col('Date')<=endTrain))\n",
    "vgtTest = vgt.filter((pl.col('Date')>=beginTest) & (pl.col('Date')<=endTest))\n",
    "\n",
    "vbTrain = vb.filter((pl.col('Date')>=beginTrain) & (pl.col('Date')<=endTrain))\n",
    "vbTest = vb.filter((pl.col('Date')>=beginTest) & (pl.col('Date')<=endTest))\n",
    "\n",
    "iveTrain = ive.filter((pl.col('Date')>=beginTrain) & (pl.col('Date')<=endTrain))\n",
    "iveTest = ive.filter((pl.col('Date')>=beginTest) & (pl.col('Date')<=endTest))\n",
    "\n",
    "xliTrain = xli.filter((pl.col('Date')>=beginTrain) & (pl.col('Date')<=endTrain))\n",
    "xliTest = xli.filter((pl.col('Date')>=beginTest) & (pl.col('Date')<=endTest))\n",
    "\n",
    "xluTrain = xlu.filter((pl.col('Date')>=beginTrain) & (pl.col('Date')<=endTrain))\n",
    "xluTest = xlu.filter((pl.col('Date')>=beginTest) & (pl.col('Date')<=endTest))\n",
    "\n",
    "slvTrain = slv.filter((pl.col('Date')>=beginTrain) & (pl.col('Date')<=endTrain))\n",
    "slvTest = slv.filter((pl.col('Date')>=beginTest) & (pl.col('Date')<=endTest))\n",
    "\n",
    "usoTrain = uso.filter((pl.col('Date')>=beginTrain) & (pl.col('Date')<=endTrain))\n",
    "usoTest = uso.filter((pl.col('Date')>=beginTest) & (pl.col('Date')<=endTest))\n"
   ]
  },
  {
   "cell_type": "code",
   "execution_count": 21,
   "metadata": {},
   "outputs": [
    {
     "name": "stdout",
     "output_type": "stream",
     "text": [
      "Train DataFrame shapes:\n",
      "wtiTrain.shape:  (4698, 17)\n",
      "spyTrain.shape:  (4698, 9)\n",
      "gldTrain.shape:  (4698, 9)\n",
      "vgtTrain.shape:  (4698, 9)\n",
      "vbTrain.shape:  (4698, 9)\n",
      "iveTrain.shape:  (4698, 9)\n",
      "xliTrain.shape:  (4698, 9)\n",
      "xluTrain.shape:  (4698, 9)\n",
      "slvTrain.shape:  (4698, 9)\n",
      "usoTrain.shape:  (4698, 9)\n",
      "Test DataFrame shapes:\n",
      "wtiTest.shape:  (157, 17)\n",
      "spyTest.shape:  (157, 9)\n",
      "gldTest.shape:  (157, 9)\n",
      "vgtTest.shape:  (157, 9)\n",
      "vbTest.shape:  (157, 9)\n",
      "iveTest.shape:  (157, 9)\n",
      "xliTest.shape:  (157, 9)\n",
      "xluTest.shape:  (157, 9)\n",
      "slvTest.shape:  (157, 9)\n",
      "usoTest.shape:  (157, 9)\n"
     ]
    }
   ],
   "source": [
    "# verify consistent shapes of DataFrames\n",
    "print(\"Train DataFrame shapes:\")\n",
    "print(\"wtiTrain.shape: \", wtiTrain.shape)\n",
    "print(\"spyTrain.shape: \", spyTrain.shape)\n",
    "print(\"gldTrain.shape: \", gldTrain.shape)\n",
    "print(\"vgtTrain.shape: \", vgtTrain.shape)\n",
    "print(\"vbTrain.shape: \", vbTrain.shape)\n",
    "print(\"iveTrain.shape: \", iveTrain.shape)\n",
    "print(\"xliTrain.shape: \", xliTrain.shape)\n",
    "print(\"xluTrain.shape: \", xluTrain.shape)\n",
    "print(\"slvTrain.shape: \", slvTrain.shape)\n",
    "print(\"usoTrain.shape: \", usoTrain.shape)\n",
    "# verify consistent shapes of DataFrames\n",
    "print(\"Test DataFrame shapes:\")\n",
    "print(\"wtiTest.shape: \", wtiTest.shape)\n",
    "print(\"spyTest.shape: \", spyTest.shape)\n",
    "print(\"gldTest.shape: \", gldTest.shape)\n",
    "print(\"vgtTest.shape: \", vgtTest.shape)\n",
    "print(\"vbTest.shape: \", vbTest.shape)\n",
    "print(\"iveTest.shape: \", iveTest.shape)\n",
    "print(\"xliTest.shape: \", xliTest.shape)\n",
    "print(\"xluTest.shape: \", xluTest.shape)\n",
    "print(\"slvTest.shape: \", slvTest.shape)\n",
    "print(\"usoTest.shape: \", usoTest.shape)\n",
    "\n",
    "\n"
   ]
  },
  {
   "cell_type": "code",
   "execution_count": 22,
   "metadata": {},
   "outputs": [
    {
     "name": "stdout",
     "output_type": "stream",
     "text": [
      "Schema({'Date': Datetime(time_unit='us', time_zone='UTC'), 'CloseLag1': Float64, 'CloseLag2': Float64, 'CloseLag3': Float64, 'HMLLag1': Float64, 'HMLLag2': Float64, 'HMLLag3': Float64, 'OMCLag1': Float64, 'OMCLag2': Float64, 'OMCLag3': Float64, 'VolumeLag1': Float64, 'VolumeLag2': Float64, 'VolumeLag3': Float64, 'CloseEMA2': Float64, 'CloseEMA4': Float64, 'CloseEMA8': Float64, 'Target': Int32, 'SPYUp': Int32, 'GLDUp': Int32, 'VGTUp': Int32, 'VBUp': Int32, 'IVEUp': Int32, 'XLIUp': Int32, 'XLUUp': Int32, 'SLVUp': Int32, 'USOUp': Int32})\n",
      "shape: (5, 26)\n",
      "┌─────────────────────────┬───────────┬───────────┬───────────┬───┬───────┬───────┬───────┬───────┐\n",
      "│ Date                    ┆ CloseLag1 ┆ CloseLag2 ┆ CloseLag3 ┆ … ┆ XLIUp ┆ XLUUp ┆ SLVUp ┆ USOUp │\n",
      "│ ---                     ┆ ---       ┆ ---       ┆ ---       ┆   ┆ ---   ┆ ---   ┆ ---   ┆ ---   │\n",
      "│ datetime[μs, UTC]       ┆ f64       ┆ f64       ┆ f64       ┆   ┆ i32   ┆ i32   ┆ i32   ┆ i32   │\n",
      "╞═════════════════════════╪═══════════╪═══════════╪═══════════╪═══╪═══════╪═══════╪═══════╪═══════╡\n",
      "│ 2006-05-02 04:00:00 UTC ┆ 32.19     ┆ 31.062    ┆ 30.669    ┆ … ┆ 1     ┆ 0     ┆ 1     ┆ 1     │\n",
      "│ 2006-05-03 04:00:00 UTC ┆ 33.471    ┆ 32.19     ┆ 31.062    ┆ … ┆ 1     ┆ 1     ┆ 1     ┆ 1     │\n",
      "│ 2006-05-04 04:00:00 UTC ┆ 33.158    ┆ 33.471    ┆ 32.19     ┆ … ┆ 1     ┆ 0     ┆ 0     ┆ 0     │\n",
      "│ 2006-05-05 04:00:00 UTC ┆ 35.013    ┆ 33.158    ┆ 33.471    ┆ … ┆ 1     ┆ 1     ┆ 1     ┆ 0     │\n",
      "│ 2006-05-08 04:00:00 UTC ┆ 33.645    ┆ 35.013    ┆ 33.158    ┆ … ┆ 1     ┆ 1     ┆ 0     ┆ 0     │\n",
      "└─────────────────────────┴───────────┴───────────┴───────────┴───┴───────┴───────┴───────┴───────┘\n",
      "Schema({'Date': Datetime(time_unit='us', time_zone='UTC'), 'CloseLag1': Float64, 'CloseLag2': Float64, 'CloseLag3': Float64, 'HMLLag1': Float64, 'HMLLag2': Float64, 'HMLLag3': Float64, 'OMCLag1': Float64, 'OMCLag2': Float64, 'OMCLag3': Float64, 'VolumeLag1': Float64, 'VolumeLag2': Float64, 'VolumeLag3': Float64, 'CloseEMA2': Float64, 'CloseEMA4': Float64, 'CloseEMA8': Float64, 'Target': Int32, 'SPYUp': Int32, 'GLDUp': Int32, 'VGTUp': Int32, 'VBUp': Int32, 'IVEUp': Int32, 'XLIUp': Int32, 'XLUUp': Int32, 'SLVUp': Int32, 'USOUp': Int32})\n",
      "shape: (5, 26)\n",
      "┌─────────────────────────┬───────────┬───────────┬───────────┬───┬───────┬───────┬───────┬───────┐\n",
      "│ Date                    ┆ CloseLag1 ┆ CloseLag2 ┆ CloseLag3 ┆ … ┆ XLIUp ┆ XLUUp ┆ SLVUp ┆ USOUp │\n",
      "│ ---                     ┆ ---       ┆ ---       ┆ ---       ┆   ┆ ---   ┆ ---   ┆ ---   ┆ ---   │\n",
      "│ datetime[μs, UTC]       ┆ f64       ┆ f64       ┆ f64       ┆   ┆ i32   ┆ i32   ┆ i32   ┆ i32   │\n",
      "╞═════════════════════════╪═══════════╪═══════════╪═══════════╪═══╪═══════╪═══════╪═══════╪═══════╡\n",
      "│ 2025-01-02 05:00:00 UTC ┆ 1.628     ┆ 1.638     ┆ 1.579     ┆ … ┆ 0     ┆ 0     ┆ 0     ┆ 1     │\n",
      "│ 2025-01-03 05:00:00 UTC ┆ 1.746     ┆ 1.628     ┆ 1.638     ┆ … ┆ 0     ┆ 1     ┆ 1     ┆ 1     │\n",
      "│ 2025-01-06 05:00:00 UTC ┆ 1.727     ┆ 1.746     ┆ 1.628     ┆ … ┆ 1     ┆ 1     ┆ 1     ┆ 1     │\n",
      "│ 2025-01-07 05:00:00 UTC ┆ 1.619     ┆ 1.727     ┆ 1.746     ┆ … ┆ 0     ┆ 0     ┆ 1     ┆ 0     │\n",
      "│ 2025-01-08 05:00:00 UTC ┆ 1.599     ┆ 1.619     ┆ 1.727     ┆ … ┆ 0     ┆ 0     ┆ 1     ┆ 1     │\n",
      "└─────────────────────────┴───────────┴───────────┴───────────┴───┴───────┴───────┴───────┴───────┘\n"
     ]
    }
   ],
   "source": [
    "# Add Up indicator variables to the wti DataFrames\n",
    "wtiTrainETF = wtiTrain\n",
    "wtiTrainETF = wtiTrainETF.with_columns(spyTrain['SPYUp'])\n",
    "wtiTrainETF = wtiTrainETF.with_columns(gldTrain['GLDUp'])\n",
    "wtiTrainETF = wtiTrainETF.with_columns(vgtTrain['VGTUp'])\n",
    "wtiTrainETF = wtiTrainETF.with_columns(vbTrain['VBUp'])\n",
    "wtiTrainETF = wtiTrainETF.with_columns(iveTrain['IVEUp'])\n",
    "wtiTrainETF = wtiTrainETF.with_columns(xliTrain['XLIUp'])\n",
    "wtiTrainETF = wtiTrainETF.with_columns(xluTrain['XLUUp'])\n",
    "wtiTrainETF = wtiTrainETF.with_columns(slvTrain['SLVUp'])\n",
    "wtiTrainETF = wtiTrainETF.with_columns(usoTrain['USOUp'])\n",
    "print(wtiTrainETF.schema)\n",
    "print(wtiTrainETF.head())\n",
    "\n",
    "wtiTestETF = wtiTest\n",
    "wtiTestETF = wtiTestETF.with_columns(spyTest['SPYUp'])\n",
    "wtiTestETF = wtiTestETF.with_columns(gldTest['GLDUp'])\n",
    "wtiTestETF = wtiTestETF.with_columns(vgtTest['VGTUp'])\n",
    "wtiTestETF = wtiTestETF.with_columns(vbTest['VBUp'])\n",
    "wtiTestETF = wtiTestETF.with_columns(iveTest['IVEUp'])\n",
    "wtiTestETF = wtiTestETF.with_columns(xliTest['XLIUp'])\n",
    "wtiTestETF = wtiTestETF.with_columns(xluTest['XLUUp'])\n",
    "wtiTestETF = wtiTestETF.with_columns(slvTest['SLVUp'])\n",
    "wtiTestETF = wtiTestETF.with_columns(usoTest['USOUp'])\n",
    "print(wtiTestETF.schema)\n",
    "print(wtiTestETF.head())"
   ]
  },
  {
   "cell_type": "code",
   "execution_count": 23,
   "metadata": {},
   "outputs": [],
   "source": [
    "# we can now drop Date and Target from wti training and test sets\n",
    "# as we now have the full set o features for training and testing\n",
    "wtiTrainETF = wtiTrainETF.drop(['Date','Target'])\n",
    "wtiTestETF = wtiTestETF.drop(['Date','Target'])\n"
   ]
  },
  {
   "cell_type": "code",
   "execution_count": 24,
   "metadata": {},
   "outputs": [
    {
     "name": "stdout",
     "output_type": "stream",
     "text": [
      "['CloseLag1', 'CloseLag2', 'CloseLag3', 'HMLLag1', 'HMLLag2', 'HMLLag3', 'OMCLag1', 'OMCLag2', 'OMCLag3', 'VolumeLag1', 'VolumeLag2', 'VolumeLag3', 'CloseEMA2', 'CloseEMA4', 'CloseEMA8', 'SPYUp', 'GLDUp', 'VGTUp', 'VBUp', 'IVEUp', 'XLIUp', 'XLUUp', 'SLVUp', 'USOUp']\n",
      "Schema({'column': String, 'column_0': String, 'column_2': String, 'column_3': String, 'column_4': String, 'column_8': String})\n",
      "┌────────────┬──────────┬──────────────────────┬─────────────────────┬──────────┬────────────┐\n",
      "│ column     ┆ column_0 ┆ column_2             ┆ column_3            ┆ column_4 ┆ column_8   │\n",
      "╞════════════╪══════════╪══════════════════════╪═════════════════════╪══════════╪════════════╡\n",
      "│ statistic  ┆ count    ┆ mean                 ┆ std                 ┆ min      ┆ max        │\n",
      "│ CloseLag1  ┆ 4698.0   ┆ 9.434744146445293    ┆ 7.903321463290654   ┆ 1.047    ┆ 44.172     │\n",
      "│ CloseLag2  ┆ 4698.0   ┆ 9.441019795657727    ┆ 7.9087858952326995  ┆ 1.047    ┆ 44.172     │\n",
      "│ CloseLag3  ┆ 4698.0   ┆ 9.447220093656876    ┆ 7.91400686144687    ┆ 1.047    ┆ 44.172     │\n",
      "│ HMLLag1    ┆ 4698.0   ┆ 0.45111323967645806  ┆ 0.43053528722285817 ┆ 0.029    ┆ 4.129      │\n",
      "│ HMLLag2    ┆ 4698.0   ┆ 0.4514563644103873   ┆ 0.4308960144294226  ┆ 0.029    ┆ 4.129      │\n",
      "│ HMLLag3    ┆ 4698.0   ┆ 0.45179480630055346  ┆ 0.4312426208526598  ┆ 0.029    ┆ 4.129      │\n",
      "│ OMCLag1    ┆ 4698.0   ┆ 0.01769391230310771  ┆ 0.37248492041266446 ┆ -3.223   ┆ 3.705      │\n",
      "│ OMCLag2    ┆ 4698.0   ┆ 0.017589186888037466 ┆ 0.3725618641070302  ┆ -3.223   ┆ 3.705      │\n",
      "│ OMCLag3    ┆ 4698.0   ┆ 0.01758407833120477  ┆ 0.37256294191238093 ┆ -3.223   ┆ 3.705      │\n",
      "│ VolumeLag1 ┆ 4698.0   ┆ 1846607.4499787143   ┆ 1858696.1408019532  ┆ 52700.0  ┆ 40429700.0 │\n",
      "│ VolumeLag2 ┆ 4698.0   ┆ 1846130.779054917    ┆ 1858810.9684406945  ┆ 52700.0  ┆ 40429700.0 │\n",
      "│ VolumeLag3 ┆ 4698.0   ┆ 1845878.9272030653   ┆ 1858934.5724908514  ┆ 52700.0  ┆ 40429700.0 │\n",
      "│ CloseEMA2  ┆ 4698.0   ┆ 9.441036824180502    ┆ 7.901227922219755   ┆ 1.156    ┆ 43.432     │\n",
      "│ CloseEMA4  ┆ 4698.0   ┆ 9.450132183908048    ┆ 7.900732474686015   ┆ 1.285    ┆ 43.018     │\n",
      "│ CloseEMA8  ┆ 4698.0   ┆ 9.46854576415496     ┆ 7.899496747575      ┆ 1.382    ┆ 42.696     │\n",
      "│ SPYUp      ┆ 4698.0   ┆ 0.5506598552575565   ┆ 0.49747990726518226 ┆ 0.0      ┆ 1.0        │\n",
      "│ GLDUp      ┆ 4698.0   ┆ 0.5259684972328651   ┆ 0.4993783325710364  ┆ 0.0      ┆ 1.0        │\n",
      "│ VGTUp      ┆ 4698.0   ┆ 0.5576841209025117   ┆ 0.49671426317032225 ┆ 0.0      ┆ 1.0        │\n",
      "│ VBUp       ┆ 4698.0   ┆ 0.5357598978288634   ┆ 0.49877267659502655 ┆ 0.0      ┆ 1.0        │\n",
      "│ IVEUp      ┆ 4698.0   ┆ 0.5340570455512984   ┆ 0.4988918682142226  ┆ 0.0      ┆ 1.0        │\n",
      "│ XLIUp      ┆ 4698.0   ┆ 0.5398041719880801   ┆ 0.49846616338488664 ┆ 0.0      ┆ 1.0        │\n",
      "│ XLUUp      ┆ 4698.0   ┆ 0.5363984674329502   ┆ 0.4987264730981392  ┆ 0.0      ┆ 1.0        │\n",
      "│ SLVUp      ┆ 4698.0   ┆ 0.5163899531715623   ┆ 0.4997844912621346  ┆ 0.0      ┆ 1.0        │\n",
      "│ USOUp      ┆ 4698.0   ┆ 0.511068539804172    ┆ 0.4999306820015263  ┆ 0.0      ┆ 1.0        │\n",
      "└────────────┴──────────┴──────────────────────┴─────────────────────┴──────────┴────────────┘\n",
      "shape: (5, 24)\n",
      "┌───────────┬───────────┬───────────┬─────────┬───┬───────┬───────┬───────┬───────┐\n",
      "│ CloseLag1 ┆ CloseLag2 ┆ CloseLag3 ┆ HMLLag1 ┆ … ┆ XLIUp ┆ XLUUp ┆ SLVUp ┆ USOUp │\n",
      "│ ---       ┆ ---       ┆ ---       ┆ ---     ┆   ┆ ---   ┆ ---   ┆ ---   ┆ ---   │\n",
      "│ f64       ┆ f64       ┆ f64       ┆ f64     ┆   ┆ i32   ┆ i32   ┆ i32   ┆ i32   │\n",
      "╞═══════════╪═══════════╪═══════════╪═════════╪═══╪═══════╪═══════╪═══════╪═══════╡\n",
      "│ 32.19     ┆ 31.062    ┆ 30.669    ┆ 1.128   ┆ … ┆ 1     ┆ 0     ┆ 1     ┆ 1     │\n",
      "│ 33.471    ┆ 32.19     ┆ 31.062    ┆ 1.681   ┆ … ┆ 1     ┆ 1     ┆ 1     ┆ 1     │\n",
      "│ 33.158    ┆ 33.471    ┆ 32.19     ┆ 1.375   ┆ … ┆ 1     ┆ 0     ┆ 0     ┆ 0     │\n",
      "│ 35.013    ┆ 33.158    ┆ 33.471    ┆ 1.688   ┆ … ┆ 1     ┆ 1     ┆ 1     ┆ 0     │\n",
      "│ 33.645    ┆ 35.013    ┆ 33.158    ┆ 1.899   ┆ … ┆ 1     ┆ 1     ┆ 0     ┆ 0     │\n",
      "└───────────┴───────────┴───────────┴─────────┴───┴───────┴───────┴───────┴───────┘\n"
     ]
    }
   ],
   "source": [
    "trainStatistics = wtiTrainETF.describe()\n",
    "print(wtiTrainETF.columns)\n",
    "trainStatisticsToPrint = trainStatistics.transpose(include_header=True).drop(['column_1', 'column_5', 'column_6', 'column_7'])\n",
    "print(trainStatisticsToPrint.schema)\n",
    "with pl.Config(\n",
    "    tbl_rows = 60,\n",
    "    tbl_width_chars = 200,\n",
    "    tbl_cols = -1,\n",
    "    float_precision = 3,\n",
    "    tbl_hide_dataframe_shape = True,\n",
    "    tbl_hide_column_data_types = True):\n",
    "    print(trainStatisticsToPrint)\n",
    "\n",
    "# print a few records at the beginning of the DataFrame\n",
    "print(wtiTrainETF.head())"
   ]
  },
  {
   "cell_type": "code",
   "execution_count": 25,
   "metadata": {},
   "outputs": [
    {
     "name": "stdout",
     "output_type": "stream",
     "text": [
      "['CloseLag1', 'CloseLag2', 'CloseLag3', 'HMLLag1', 'HMLLag2', 'HMLLag3', 'OMCLag1', 'OMCLag2', 'OMCLag3', 'VolumeLag1', 'VolumeLag2', 'VolumeLag3', 'CloseEMA2', 'CloseEMA4', 'CloseEMA8', 'SPYUp', 'GLDUp', 'VGTUp', 'VBUp', 'IVEUp', 'XLIUp', 'XLUUp', 'SLVUp', 'USOUp']\n",
      "Schema({'column': String, 'column_0': String, 'column_2': String, 'column_3': String, 'column_4': String, 'column_8': String})\n",
      "┌────────────┬──────────┬──────────────────────┬──────────────────────┬──────────┬───────────┐\n",
      "│ column     ┆ column_0 ┆ column_2             ┆ column_3             ┆ column_4 ┆ column_8  │\n",
      "╞════════════╪══════════╪══════════════════════╪══════════════════════╪══════════╪═══════════╡\n",
      "│ statistic  ┆ count    ┆ mean                 ┆ std                  ┆ min      ┆ max       │\n",
      "│ CloseLag1  ┆ 157.0    ┆ 1.583496815286624    ┆ 0.23880529630030126  ┆ 1.096    ┆ 2.346     │\n",
      "│ CloseLag2  ┆ 157.0    ┆ 1.5828471337579617   ┆ 0.23851536438187623  ┆ 1.096    ┆ 2.346     │\n",
      "│ CloseLag3  ┆ 157.0    ┆ 1.5820127388535032   ┆ 0.23829673344386137  ┆ 1.096    ┆ 2.346     │\n",
      "│ HMLLag1    ┆ 157.0    ┆ 0.08693630573248408  ┆ 0.05223058853366095  ┆ 0.03     ┆ 0.398     │\n",
      "│ HMLLag2    ┆ 157.0    ┆ 0.08730573248407644  ┆ 0.052172748365944654 ┆ 0.03     ┆ 0.398     │\n",
      "│ HMLLag3    ┆ 157.0    ┆ 0.08761146496815288  ┆ 0.05209331490177502  ┆ 0.03     ┆ 0.398     │\n",
      "│ OMCLag1    ┆ 157.0    ┆ 0.004267515923566881 ┆ 0.06086306426616007  ┆ -0.119   ┆ 0.288     │\n",
      "│ OMCLag2    ┆ 157.0    ┆ 0.004210191082802551 ┆ 0.06089029983030787  ┆ -0.119   ┆ 0.288     │\n",
      "│ OMCLag3    ┆ 157.0    ┆ 0.003891719745222931 ┆ 0.060832639225176156 ┆ -0.119   ┆ 0.288     │\n",
      "│ VolumeLag1 ┆ 157.0    ┆ 1774694.2675159236   ┆ 1436394.6061296004   ┆ 469000.0 ┆ 9514600.0 │\n",
      "│ VolumeLag2 ┆ 157.0    ┆ 1793519.1082802548   ┆ 1441411.6644551635   ┆ 469000.0 ┆ 9514600.0 │\n",
      "│ VolumeLag3 ┆ 157.0    ┆ 1805398.7261146498   ┆ 1439638.7979587486   ┆ 469000.0 ┆ 9514600.0 │\n",
      "│ CloseEMA2  ┆ 157.0    ┆ 1.582611464968153    ┆ 0.2311157066659726   ┆ 1.111    ┆ 2.235     │\n",
      "│ CloseEMA4  ┆ 157.0    ┆ 1.5808598726114649   ┆ 0.2211442694956234   ┆ 1.136    ┆ 2.122     │\n",
      "│ CloseEMA8  ┆ 157.0    ┆ 1.5780191082802548   ┆ 0.20381714628488098  ┆ 1.157    ┆ 1.988     │\n",
      "│ SPYUp      ┆ 157.0    ┆ 0.5668789808917197   ┆ 0.4970926415014129   ┆ 0.0      ┆ 1.0       │\n",
      "│ GLDUp      ┆ 157.0    ┆ 0.5796178343949044   ┆ 0.49519988886944     ┆ 0.0      ┆ 1.0       │\n",
      "│ VGTUp      ┆ 157.0    ┆ 0.5605095541401274   ┆ 0.4979133332299239   ┆ 0.0      ┆ 1.0       │\n",
      "│ VBUp       ┆ 157.0    ┆ 0.4968152866242038   ┆ 0.5015898291312316   ┆ 0.0      ┆ 1.0       │\n",
      "│ IVEUp      ┆ 157.0    ┆ 0.5414012738853503   ┆ 0.49987749601678194  ┆ 0.0      ┆ 1.0       │\n",
      "│ XLIUp      ┆ 157.0    ┆ 0.535031847133758    ┆ 0.5003673319951818   ┆ 0.0      ┆ 1.0       │\n",
      "│ XLUUp      ┆ 157.0    ┆ 0.5668789808917197   ┆ 0.4970926415014129   ┆ 0.0      ┆ 1.0       │\n",
      "│ SLVUp      ┆ 157.0    ┆ 0.535031847133758    ┆ 0.5003673319951818   ┆ 0.0      ┆ 1.0       │\n",
      "│ USOUp      ┆ 157.0    ┆ 0.4840764331210191   ┆ 0.5013455681821809   ┆ 0.0      ┆ 1.0       │\n",
      "└────────────┴──────────┴──────────────────────┴──────────────────────┴──────────┴───────────┘\n",
      "shape: (5, 24)\n",
      "┌───────────┬───────────┬───────────┬─────────┬───┬───────┬───────┬───────┬───────┐\n",
      "│ CloseLag1 ┆ CloseLag2 ┆ CloseLag3 ┆ HMLLag1 ┆ … ┆ XLIUp ┆ XLUUp ┆ SLVUp ┆ USOUp │\n",
      "│ ---       ┆ ---       ┆ ---       ┆ ---     ┆   ┆ ---   ┆ ---   ┆ ---   ┆ ---   │\n",
      "│ f64       ┆ f64       ┆ f64       ┆ f64     ┆   ┆ i32   ┆ i32   ┆ i32   ┆ i32   │\n",
      "╞═══════════╪═══════════╪═══════════╪═════════╪═══╪═══════╪═══════╪═══════╪═══════╡\n",
      "│ 1.628     ┆ 1.638     ┆ 1.579     ┆ 0.059   ┆ … ┆ 0     ┆ 0     ┆ 0     ┆ 1     │\n",
      "│ 1.746     ┆ 1.628     ┆ 1.638     ┆ 0.128   ┆ … ┆ 0     ┆ 1     ┆ 1     ┆ 1     │\n",
      "│ 1.727     ┆ 1.746     ┆ 1.628     ┆ 0.088   ┆ … ┆ 1     ┆ 1     ┆ 1     ┆ 1     │\n",
      "│ 1.619     ┆ 1.727     ┆ 1.746     ┆ 0.167   ┆ … ┆ 0     ┆ 0     ┆ 1     ┆ 0     │\n",
      "│ 1.599     ┆ 1.619     ┆ 1.727     ┆ 0.098   ┆ … ┆ 0     ┆ 0     ┆ 1     ┆ 1     │\n",
      "└───────────┴───────────┴───────────┴─────────┴───┴───────┴───────┴───────┴───────┘\n"
     ]
    }
   ],
   "source": [
    "testStatistics = wtiTestETF.describe()\n",
    "print(wtiTestETF.columns)\n",
    "testStatisticsToPrint = testStatistics.transpose(include_header=True).drop(['column_1', 'column_5', 'column_6', 'column_7'])\n",
    "print(testStatisticsToPrint.schema)\n",
    "with pl.Config(\n",
    "    tbl_rows = 60,\n",
    "    tbl_width_chars = 200,\n",
    "    tbl_cols = -1,\n",
    "    float_precision = 3,\n",
    "    tbl_hide_dataframe_shape = True,\n",
    "    tbl_hide_column_data_types = True):\n",
    "    print(testStatisticsToPrint)\n",
    "\n",
    "# print a few records at the beginning of the DataFrame\n",
    "print(wtiTestETF.head())"
   ]
  },
  {
   "cell_type": "code",
   "execution_count": 26,
   "metadata": {},
   "outputs": [
    {
     "name": "stdout",
     "output_type": "stream",
     "text": [
      "Feature names correspond to Numpy array columns: ['CloseLag1', 'CloseLag2', 'CloseLag3', 'HMLLag1', 'HMLLag2', 'HMLLag3', 'OMCLag1', 'OMCLag2', 'OMCLag3', 'VolumeLag1', 'VolumeLag2', 'VolumeLag3', 'CloseEMA2', 'CloseEMA4', 'CloseEMA8', 'SPYUp', 'GLDUp', 'VGTUp', 'VBUp', 'IVEUp', 'XLIUp', 'XLUUp', 'SLVUp', 'USOUp']\n"
     ]
    }
   ],
   "source": [
    "# Standardize features in the training data\n",
    "featureNames = wtiTrainETF.columns\n",
    "print(\"Feature names correspond to Numpy array columns:\",featureNames)\n",
    "scaler = StandardScaler()\n",
    "XTrain = scaler.fit_transform(np.array(wtiTrainETF))"
   ]
  },
  {
   "cell_type": "code",
   "execution_count": 27,
   "metadata": {},
   "outputs": [
    {
     "name": "stdout",
     "output_type": "stream",
     "text": [
      "Feature names correspond to Numpy array columns: ['CloseLag1', 'CloseLag2', 'CloseLag3', 'HMLLag1', 'HMLLag2', 'HMLLag3', 'OMCLag1', 'OMCLag2', 'OMCLag3', 'VolumeLag1', 'VolumeLag2', 'VolumeLag3', 'CloseEMA2', 'CloseEMA4', 'CloseEMA8', 'SPYUp', 'GLDUp', 'VGTUp', 'VBUp', 'IVEUp', 'XLIUp', 'XLUUp', 'SLVUp', 'USOUp']\n"
     ]
    }
   ],
   "source": [
    "# Standardize features for hold-out test set\n",
    "featureNames = wtiTestETF.columns\n",
    "print(\"Feature names correspond to Numpy array columns:\",featureNames)\n",
    "scaler = StandardScaler()\n",
    "XTest = scaler.fit_transform(np.array(wtiTestETF))"
   ]
  },
  {
   "cell_type": "code",
   "execution_count": 28,
   "metadata": {},
   "outputs": [],
   "source": [
    "# Defining training features and target for tree-structured ensemble modeling (XGBoost)\n",
    "X = XTrain  # the full training data set with ETS Up indicators\n",
    "y = yTrain  # the cloned values just computed"
   ]
  },
  {
   "cell_type": "code",
   "execution_count": 29,
   "metadata": {},
   "outputs": [
    {
     "name": "stdout",
     "output_type": "stream",
     "text": [
      "type(all_splits): <class 'list'>  outer list length 5\n",
      "\n",
      "train_0 has 773 with indices from  0 to 772\n",
      "test_0 has 783 with indices from  783 to 1565\n",
      "\n",
      "train_1 has 1556 with indices from  0 to 1555\n",
      "test_1 has 783 with indices from  1566 to 2348\n",
      "\n",
      "train_2 has 2339 with indices from  0 to 2338\n",
      "test_2 has 783 with indices from  2349 to 3131\n",
      "\n",
      "train_3 has 3122 with indices from  0 to 3121\n",
      "test_3 has 783 with indices from  3132 to 3914\n",
      "\n",
      "train_4 has 3905 with indices from  0 to 3904\n",
      "test_4 has 783 with indices from  3915 to 4697\n"
     ]
    }
   ],
   "source": [
    "# Splitting the X (XTrain) and y (yTrain) data \n",
    "# into cross-validation train and test sets\n",
    "# within the Scikit-Learn framework using TimeSeriesSplit\n",
    "# with a gap, for the number of samples to exclude from \n",
    "# the end of each train set and before the next test set.\n",
    "tscv = TimeSeriesSplit(gap=10, n_splits=5)\n",
    "\n",
    "all_splits = list(tscv.split(X, y))\n",
    "train_0, test_0 = all_splits[0]\n",
    "train_1, test_1 = all_splits[1]\n",
    "train_2, test_2 = all_splits[2]\n",
    "train_3, test_3 = all_splits[3]\n",
    "train_4, test_4 = all_splits[4]\n",
    "\n",
    "# examine the objects created for cross-validation splits\n",
    "print(\"type(all_splits):\", type(all_splits), \" outer list length\", len(all_splits))\n",
    "print()\n",
    "print(\"train_0 has\",len(train_0),\"with indices from \",min(train_0),\"to\",max(train_0))\n",
    "print(\"test_0 has\",len(test_0),\"with indices from \",min(test_0),\"to\",max(test_0))\n",
    "print()\n",
    "print(\"train_1 has\",len(train_1),\"with indices from \",min(train_1),\"to\",max(train_1))\n",
    "print(\"test_1 has\",len(test_1),\"with indices from \",min(test_1),\"to\",max(test_1))\n",
    "print()\n",
    "print(\"train_2 has\",len(train_2),\"with indices from \",min(train_2),\"to\",max(train_2))\n",
    "print(\"test_2 has\",len(test_2),\"with indices from \",min(test_2),\"to\",max(test_2))\n",
    "print()\n",
    "print(\"train_3 has\",len(train_3),\"with indices from \",min(train_3),\"to\",max(train_3))\n",
    "print(\"test_3 has\",len(test_3),\"with indices from \",min(test_3),\"to\",max(test_3))\n",
    "print()\n",
    "print(\"train_4 has\",len(train_4),\"with indices from \",min(train_4),\"to\",max(train_4))\n",
    "print(\"test_4 has\",len(test_4),\"with indices from \",min(test_4),\"to\",max(test_4))\n",
    "\n",
    "# to see all indices we can uncomment these statements\n",
    "# print(\"elements of all_splits list of lists,\\n shows index numbers for each the five lists\")\n",
    "# print(all_splits)"
   ]
  },
  {
   "cell_type": "code",
   "execution_count": 30,
   "metadata": {},
   "outputs": [],
   "source": [
    "model = XGBClassifier(objective='binary:logistic', n_estimators=1000, random_state=2025)"
   ]
  },
  {
   "cell_type": "code",
   "execution_count": 31,
   "metadata": {},
   "outputs": [
    {
     "name": "stdout",
     "output_type": "stream",
     "text": [
      "Mean model.n_estimators = 1000.0\n"
     ]
    },
    {
     "data": {
      "text/plain": [
       "(np.float64(0.4947637292464878), np.float64(0.02598091670999012))"
      ]
     },
     "execution_count": 31,
     "metadata": {},
     "output_type": "execute_result"
    }
   ],
   "source": [
    "# Evaluate a Classification Model Within the Time Series Cross-Validation Design\n",
    "# Prior to executing a full-blown search for the \"best\" classification model, \n",
    "# we test the cross-validation design on a binary classification model, \n",
    "# revising code provided in online documentation for Scikit-Learn: \n",
    "# Time-related feature engineering. In particular,\n",
    "# we define appropriate metrics for assessing classification performance.\n",
    "def evaluate(model, X, y, cv, model_prop=None, model_step=None):\n",
    "    cv_results = cross_validate(\n",
    "        model,\n",
    "        X,\n",
    "        y,\n",
    "        cv=cv,\n",
    "        scoring=[\"accuracy\"],\n",
    "        return_estimator=model_prop is not None,\n",
    "    )\n",
    "    if model_prop is not None:\n",
    "        if model_step is not None:\n",
    "            values = [\n",
    "                getattr(m[model_step], model_prop) for m in cv_results[\"estimator\"]\n",
    "            ]\n",
    "        else:\n",
    "            values = [getattr(m, model_prop) for m in cv_results[\"estimator\"]]\n",
    "        print(f\"Mean model.{model_prop} = {np.mean(values)}\")\n",
    "    accuracy = -cv_results[\"test_accuracy\"]\n",
    "\n",
    "    # print used in earlier testing\n",
    "    # print(\n",
    "    #    f\"Mean Accuracy:     {-accuracy.mean():.3f} +/- {accuracy.std():.3f}\\n\"\n",
    "    # )\n",
    "    return (-accuracy.mean(), accuracy.std())\n",
    "    \n",
    "evaluate(model, X, y, cv=tscv, model_prop=\"n_estimators\")"
   ]
  },
  {
   "cell_type": "code",
   "execution_count": 32,
   "metadata": {},
   "outputs": [
    {
     "name": "stdout",
     "output_type": "stream",
     "text": [
      "Mean model.n_estimators = 1000.0\n",
      "Mean Accuracy:     0.495 +/- 0.026\n",
      "\n"
     ]
    }
   ],
   "source": [
    "# print results from evaluate for the model with default hyperparameter settings\n",
    "accuracyMean, accuracyStd = evaluate(model, X, y, cv=tscv, model_prop=\"n_estimators\")\n",
    "print(\n",
    "        f\"Mean Accuracy:     {accuracyMean:.3f} +/- {accuracyStd:.3f}\\n\"\n",
    "     )"
   ]
  },
  {
   "cell_type": "code",
   "execution_count": 33,
   "metadata": {},
   "outputs": [
    {
     "name": "stdout",
     "output_type": "stream",
     "text": [
      "Best parameters: {'learning_rate': np.float64(0.05637364430976246), 'max_depth': 6, 'min_child_weight': 1, 'n_estimators': 691, 'subsample': np.float64(0.5970606684977592)}\n",
      "Best score: 0.5106002554278416\n"
     ]
    }
   ],
   "source": [
    "# Randomized search to find the best set of hyperparameters\n",
    "\n",
    "param_dist = {\n",
    "    'max_depth': randint(3, 10),\n",
    "    'min_child_weight': randint(1, 10),\n",
    "    'subsample': uniform(0.5, 1),\n",
    "    'learning_rate': uniform(0.01, 0.1),\n",
    "    'n_estimators': randint(100, 1000),\n",
    "}\n",
    "xgb_model = xgb.XGBClassifier(objective='binary:logistic', use_label_encoder=False, eval_metric='logloss', random_state=2025)\n",
    "\n",
    "random_search = RandomizedSearchCV(\n",
    "    estimator=xgb_model,\n",
    "    param_distributions=param_dist,\n",
    "    n_iter=100, # Number of parameter settings that are sampled.\n",
    "    scoring='accuracy',\n",
    "    cv = TimeSeriesSplit(gap=10, n_splits=5),\n",
    "    random_state=2025,\n",
    "    n_jobs=-1 # Use all available cores\n",
    ")\n",
    "\n",
    "random_search.fit(X, y)\n",
    "\n",
    "print(\"Best parameters:\", random_search.best_params_)\n",
    "print(\"Best score:\", random_search.best_score_)"
   ]
  },
  {
   "cell_type": "code",
   "execution_count": 34,
   "metadata": {},
   "outputs": [
    {
     "data": {
      "text/plain": [
       "<sklearn.metrics._plot.roc_curve.RocCurveDisplay at 0x7f65f88a7620>"
      ]
     },
     "execution_count": 34,
     "metadata": {},
     "output_type": "execute_result"
    },
    {
     "data": {
      "image/png": "[encoded data removed]",
      "text/plain": [
       "<Figure size 640x480 with 1 Axes>"
      ]
     },
     "metadata": {},
     "output_type": "display_data"
    }
   ],
   "source": [
    "# Evaluate Model Classification Performance in the Test Set with \"Best\" hyperparameter settings\n",
    "# final model evaluation\n",
    "finalModel = XGBClassifier(objective='binary:logistic', eval_metric='logloss', random_state=2025,\n",
    "                          max_depth = 3, min_child_weight = 6, subsample = 0.552, learning_rate = 0.103, n_estimators = 110)\n",
    "\n",
    "finalModel.fit(X, y) # fit to the training data\n",
    "ypred = finalModel.predict(XTest) # predictions on the hold-out test data\n",
    "RocCurveDisplay.from_predictions(yTest, ypred)\n"
   ]
  },
  {
   "cell_type": "code",
   "execution_count": 35,
   "metadata": {},
   "outputs": [
    {
     "name": "stdout",
     "output_type": "stream",
     "text": [
      "Confusion Matrix\n",
      "[[31 54]\n",
      " [26 46]]\n"
     ]
    },
    {
     "data": {
      "image/png": "[encoded data removed]",
      "text/plain": [
       "<Figure size 640x480 with 2 Axes>"
      ]
     },
     "metadata": {},
     "output_type": "display_data"
    }
   ],
   "source": [
    "print(\"Confusion Matrix\")\n",
    "print(confusion_matrix(yTest, ypred))\n",
    "disp = ConfusionMatrixDisplay.from_predictions(yTest, ypred,\n",
    "                              display_labels =[\"0\",\"1\"],\n",
    "                                              cmap = plt.cm.Blues)\n",
    "plt.title(\"Confusion Matrix for Returns\")\n",
    "plt.xlabel(\"Predicted Return\")\n",
    "plt.ylabel(\"Actual Return\")\n",
    "plt.tight_layout()\n",
    "plt.show()   "
   ]
  },
  {
   "cell_type": "code",
   "execution_count": 36,
   "metadata": {},
   "outputs": [
    {
     "name": "stdout",
     "output_type": "stream",
     "text": [
      "              precision    recall  f1-score   support\n",
      "\n",
      "           0       0.54      0.36      0.44        85\n",
      "           1       0.46      0.64      0.53        72\n",
      "\n",
      "   micro avg       0.49      0.49      0.49       157\n",
      "   macro avg       0.50      0.50      0.49       157\n",
      "weighted avg       0.51      0.49      0.48       157\n",
      "\n"
     ]
    }
   ],
   "source": [
    "print(classification_report(yTest, ypred, labels = [\"0\",\"1\"]))"
   ]
  },
  {
   "cell_type": "code",
   "execution_count": 37,
   "metadata": {},
   "outputs": [
    {
     "name": "stdout",
     "output_type": "stream",
     "text": [
      "[0.0485498  0.05014864 0.04153407 0.04655541 0.0437216  0.04683292\n",
      " 0.04472881 0.04442059 0.04525414 0.04386874 0.04124043 0.04550721\n",
      " 0.04161915 0.04029098 0.04140518 0.03696298 0.03331797 0.04327295\n",
      " 0.03996009 0.0403973  0.03649111 0.03022377 0.03888723 0.03480893]\n"
     ]
    }
   ],
   "source": [
    "# Assess and print feature importances\n",
    "model.fit(X, y)\n",
    "print(model.feature_importances_)"
   ]
  },
  {
   "cell_type": "markdown",
   "metadata": {},
   "source": [
    "### Ranking Features by Importance\n",
    "This completes the exploration of additional features being added to the mix. Now we identify which of those features are most important in classifying the next day's return direction (up or even/down). \n"
   ]
  },
  {
   "cell_type": "code",
   "execution_count": 38,
   "metadata": {},
   "outputs": [
    {
     "name": "stdout",
     "output_type": "stream",
     "text": [
      "Feature names correspond to Numpy array columns: ['CloseLag1', 'CloseLag2', 'CloseLag3', 'HMLLag1', 'HMLLag2', 'HMLLag3', 'OMCLag1', 'OMCLag2', 'OMCLag3', 'VolumeLag1', 'VolumeLag2', 'VolumeLag3', 'CloseEMA2', 'CloseEMA4', 'CloseEMA8', 'SPYUp', 'GLDUp', 'VGTUp', 'VBUp', 'IVEUp', 'XLIUp', 'XLUUp', 'SLVUp', 'USOUp']\n",
      "shape: (24, 2)\n",
      "┌────────────┬────────────┐\n",
      "│ feature    ┆ importance │\n",
      "│ ---        ┆ ---        │\n",
      "│ str        ┆ f32        │\n",
      "╞════════════╪════════════╡\n",
      "│ CloseLag2  ┆ 0.05       │\n",
      "│ CloseLag1  ┆ 0.049      │\n",
      "│ HMLLag1    ┆ 0.047      │\n",
      "│ HMLLag3    ┆ 0.047      │\n",
      "│ VolumeLag3 ┆ 0.046      │\n",
      "│ OMCLag1    ┆ 0.045      │\n",
      "│ OMCLag3    ┆ 0.045      │\n",
      "│ HMLLag2    ┆ 0.044      │\n",
      "│ OMCLag2    ┆ 0.044      │\n",
      "│ VolumeLag1 ┆ 0.044      │\n",
      "│ VGTUp      ┆ 0.043      │\n",
      "│ CloseLag3  ┆ 0.042      │\n",
      "│ CloseEMA2  ┆ 0.042      │\n",
      "│ VolumeLag2 ┆ 0.041      │\n",
      "│ CloseEMA8  ┆ 0.041      │\n",
      "│ CloseEMA4  ┆ 0.04       │\n",
      "│ VBUp       ┆ 0.04       │\n",
      "│ IVEUp      ┆ 0.04       │\n",
      "│ SLVUp      ┆ 0.039      │\n",
      "│ SPYUp      ┆ 0.037      │\n",
      "│ XLIUp      ┆ 0.036      │\n",
      "│ USOUp      ┆ 0.035      │\n",
      "│ GLDUp      ┆ 0.033      │\n",
      "│ XLUUp      ┆ 0.03       │\n",
      "└────────────┴────────────┘\n"
     ]
    }
   ],
   "source": [
    "featureNames = wtiTrainETF.columns\n",
    "print(\"Feature names correspond to Numpy array columns:\",featureNames)\n",
    "\n",
    "# Get feature importances\n",
    "importances = np.round(model.feature_importances_, decimals = 3)\n",
    "\n",
    "# Create Polars DataFrame\n",
    "importanceDF = pl.DataFrame({\"feature\": featureNames, \"importance\": importances})\n",
    "\n",
    "with pl.Config(\n",
    "    tbl_rows = 60):\n",
    "    print(importanceDF.sort(\"importance\", descending=True))"
   ]
  },
  {
   "cell_type": "markdown",
   "metadata": {},
   "source": [
    "### Repeat the Modeling Process\n",
    "For subsequent model development, we can retain the top features and then run additional tests with new features using the procedure demonstrated in this analysis\n"
   ]
  },
  {
   "cell_type": "markdown",
   "metadata": {},
   "source": [
    "## References\n",
    "\n",
    "* [yfinance GitHub](https://github.com/ranaroussi/yfinance)\n",
    "* [yfinance Documentation](https://ranaroussi.github.io/yfinance/)\n",
    "* [Polars Online User Guide](https://docs.pola.rs/)\n",
    "* [Build Polars Database](https://www.pyquantnews.com/free-python-resources/build-stock-database-locally-with-polars)\n",
    "* [YouTube. Polars and Time Series: What It Can Do, and How to Overcome Any Limitation](https://www.youtube.com/watch?v=qz-zAHBz6Ks)\n",
    "* [Awesome Quant: Python for Quantiative Finance](https://wilsonfreitas.github.io/awesome-quant/)\n",
    "* [Cross-validation](https://scikit-learn.org/stable/modules/cross_validation.html)\n",
    "* [TimeSeriesSplit](https://scikit-learn.org/stable/modules/generated/sklearn.model_selection.TimeSeriesSplit.html)\n",
    "* [RandomizedSearchCV](https://scikit-learn.org/stable/modules/generated/sklearn.model_selection.RandomizedSearchCV.html)\n",
    "* [Hyperparameter Tuning](https://scikit-learn.org/stable/modules/grid_search.html#grid-search)\n",
    "* [Metrics and Scoring](https://scikit-learn.org/stable/modules/model_evaluation.html#scoring-parameter)\n",
    "* [Introduction to Boosted Trees](https://xgboost.readthedocs.io/en/latest/tutorials/model.html)\n",
    "* [XGBoost documentation](https://xgboost.readthedocs.io/en/latest/index.html)\n",
    "* [XGBoost in Python documentation](https://xgboost-clone.readthedocs.io/en/latest/python/python_intro.html)\n",
    "* [Auto-Sklearn for AutoML in an Scikit-Learn Environment](https://www.automl.org/automl-for-x/tabular-data/auto-sklearn/)."
   ]
  }
 ],
 "metadata": {
  "kernelspec": {
   "display_name": "Python 3 (ipykernel)",
   "language": "python",
   "name": "python3"
  },
  "language_info": {
   "codemirror_mode": {
    "name": "ipython",
    "version": 3
   },
   "file_extension": ".py",
   "mimetype": "text/x-python",
   "name": "python",
   "nbconvert_exporter": "python",
   "pygments_lexer": "ipython3",
   "version": "3.13.3"
  },
  "nbTranslate": {
   "displayLangs": [
    "*"
   ],
   "hotkey": "alt-t",
   "langInMainMenu": true,
   "sourceLang": "en",
   "targetLang": "fr",
   "useGoogleTranslate": true
  },
  "toc": {
   "base_numbering": 1,
   "nav_menu": {},
   "number_sections": false,
   "sideBar": true,
   "skip_h1_title": true,
   "title_cell": "Table of Contents",
   "title_sidebar": "Contents",
   "toc_cell": false,
   "toc_position": {
    "height": "calc(100% - 180px)",
    "left": "10px",
    "top": "150px",
    "width": "341.331543px"
   },
   "toc_section_display": true,
   "toc_window_display": false
  },
  "toc-autonumbering": false,
  "toc-showtags": false,
  "varInspector": {
   "cols": {
    "lenName": 16,
    "lenType": 16,
    "lenVar": 40
   },
   "kernels_config": {
    "python": {
     "delete_cmd_postfix": "",
     "delete_cmd_prefix": "del ",
     "library": "var_list.py",
     "varRefreshCmd": "print(var_dic_list())"
    },
    "r": {
     "delete_cmd_postfix": ") ",
     "delete_cmd_prefix": "rm(",
     "library": "var_list.r",
     "varRefreshCmd": "cat(var_dic_list()) "
    }
   },
   "types_to_exclude": [
    "module",
    "function",
    "builtin_function_or_method",
    "instance",
    "_Feature"
   ],
   "window_display": false
  }
 },
 "nbformat": 4,
 "nbformat_minor": 4
}
